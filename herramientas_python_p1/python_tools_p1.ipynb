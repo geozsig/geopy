{
 "cells": [
  {
   "cell_type": "markdown",
   "metadata": {},
   "source": [
    "# _Herramientas de python parte (1)_\n",
    "---\n",
    "\n",
    "USGS. (2020). Major mineral deposits of the world.<br/>\n",
    "Zenodo. http://doi.org/10.5281/zenodo.3747876<br/>\n",
    "Name: `ore_deposits.csv`\n",
    "\n",
    "### **_Funciones_**\n",
    "\n",
    "Como hemos visto, python nos provee de una gran cantidad de funciones como `str(5)` que recibirá el dato `5`, de tipo `int`, y lo transformará. O sea, la función `str()` recibirá un entero como parámetro y nos regresará una cadena carater. \n",
    "\n",
    "–_Veamos el siguiente ejemplo:–_"
   ]
  },
  {
   "cell_type": "code",
   "execution_count": 1,
   "metadata": {},
   "outputs": [
    {
     "name": "stdout",
     "output_type": "stream",
     "text": [
      "5.6\n"
     ]
    }
   ],
   "source": [
    "x=5.6\n",
    "y1=str(x)\n",
    "y2=print(y1)"
   ]
  },
  {
   "cell_type": "markdown",
   "metadata": {},
   "source": [
    "Mandando llamar a la función `type()` para que nos devuelva la clase de cada uno de nuestras variables visualizaríamos lo siguiente:\n",
    "\n",
    "```pyhton\n",
    "<class 'float'>\n",
    "<class 'str'>\n",
    "<class 'NoneType'>\n",
    "```\n",
    "\n",
    "Como vemos la función `type()` nos ayuda a reconocer la clase de los objetos de python con solo ingresar un objeto como parámetro.\n",
    "\n",
    "Pero nosotros también podemos crear nuestras porpias funciones que realicen una tarea específica. Cada vez que necesitemos crear una función que haga una tarea esta tendrá la siguiente estructura:\n",
    "\n",
    "* Título _(head)_: es como nombrarémos a nuestra fucnión. Siempre se inicia con la _keyword_ `def`\n",
    "* Cuerpo _(body)_: es el cuerpo y la parte más importante de nuestra función.\n",
    "* Docstrings: así tratamos de documentar el procesamiento que realizan nuestras funciones. O sea, describimos un poco cual es el objetivo de nuestra fucnión.\n",
    "\n",
    "Por ejemplo: _–querémos crear una función que eleve al cuadrado, cualquier número–_.\n",
    "\n",
    "Con anterioridad hemos visto que en python elevar un número a una determinada potencia es facil. Solo basta con colocar el valor de interés, seguido de `**` y la potencia objetivo:"
   ]
  },
  {
   "cell_type": "code",
   "execution_count": 2,
   "metadata": {},
   "outputs": [],
   "source": [
    "def cuadrado():\n",
    "    \"\"\"Esta función elevará al cuadrado el número 4.\"\"\"\n",
    "    4**2\n",
    "cuadrado()"
   ]
  },
  {
   "cell_type": "markdown",
   "metadata": {},
   "source": [
    "Como hemos podido ver cada vez que ejecutamos la función `cuadrado` esta ejecutará la operación `4**2`. Pero como _python_ también es una \"calculadora\" se ha preocupado por realizar esta operación eficientemente, pero el resultado lo deja a un lado.\n",
    "\n",
    "_–¿Que pasa sí guardamos el resultado en una variable llamada **cuadrado** y la imprimimos?–_..."
   ]
  },
  {
   "cell_type": "code",
   "execution_count": 3,
   "metadata": {},
   "outputs": [
    {
     "name": "stdout",
     "output_type": "stream",
     "text": [
      "16\n"
     ]
    }
   ],
   "source": [
    "def cuadrado():\n",
    "    \"\"\"Esta función elevará e imprimirá el cuadrado del número 4.\"\"\"\n",
    "    cuadrado=4**2\n",
    "    print(cuadrado)\n",
    "cuadrado()"
   ]
  },
  {
   "cell_type": "markdown",
   "metadata": {},
   "source": [
    "Ahora pongamos atención en lo siguiente:"
   ]
  },
  {
   "cell_type": "code",
   "execution_count": 4,
   "metadata": {},
   "outputs": [
    {
     "name": "stdout",
     "output_type": "stream",
     "text": [
      "16\n"
     ]
    }
   ],
   "source": [
    "def cuadrado(parametro):\n",
    "    \"\"\"Esta función elevará e imprimirá el cuadrado de culaquier número.\"\"\"\n",
    "    nuevo_valor=parametro**2\n",
    "    return nuevo_valor\n",
    "\n",
    "resultado = cuadrado(4)\n",
    "print(resultado)"
   ]
  },
  {
   "cell_type": "markdown",
   "metadata": {},
   "source": [
    "La función se ha ejecutado y su valor se a almacenado en la variable llamada `resultado`. Notemos que; esta vez hemos incluido la función `return()`, la cual permanentemente aloja el resultado en una nueva variable llamada `nuevo_valor`. Sin embargo esta no se imprime, pero a su vez, la variable `resultado` toma su lugar. Es decir; la variable `nuevo_valor` esta disfrazada de la variable `resultado`.\n",
    "\n",
    "#### **Parámetros y Argumentos**\n",
    "\n",
    "En el ejemplo anterior podemos observar que hemos agregado la función `return()` como parte del cuerpo de nuestra fucnión, para que guarde el valor de la operación y lo almacene en automático en una nueva variable. Esta se crea cuando llamamos e indicamos los argumentos de nuestra operación. \n",
    "\n",
    "Es como si la variable `resultado` quedara igualada a `nuevo valor`. Pero sabemos que `nuevo_valor` está disfrazada por todo el procedimeinto de la función, o sea por `cuadrado(4)`. \n",
    "\n",
    "La conclusión de todo esto sería que: toda función necesita _parámetros_ y cuando las llamamos estos se convierten en _argumentos_. \n",
    "\n",
    "#### **Múltiples Parámetros y Argumentos**\n",
    "\n",
    "Ahora tenemos el caso siguiente:\n",
    "\n",
    "_–¿Que pasaría sí ahora nosotros tuviéramos que decidir la base y el exponente como parámetros de nuestra función?–_... \n",
    "\n",
    "Renombraremos nuestra función `cuadrado` por `potencia`. También vámos a modificar sus _parámetros_ y su _docstrings_ para cambiar el comportamiento de la misma. "
   ]
  },
  {
   "cell_type": "code",
   "execution_count": 5,
   "metadata": {},
   "outputs": [
    {
     "name": "stdout",
     "output_type": "stream",
     "text": [
      "9\n"
     ]
    }
   ],
   "source": [
    "def potencia(base,exponente):\n",
    "    \"\"\"Esta función elevará una base al exponente indicado.\"\"\"\n",
    "    resultado=base**exponente\n",
    "    return resultado\n",
    "\n",
    "valor = potencia(3,2)\n",
    "print(valor)"
   ]
  },
  {
   "cell_type": "markdown",
   "metadata": {},
   "source": [
    "Observemos que la nueva función `potencia` no solamente acepta un argumento como lo hacia antes. Ahora acepta 2 argumentos y estos a su vez se convierten en los parámetros `base` y `exponente` (respectivamente) para ser operados en el en el mismo orden. Ahora hemos logrado que nuestra función acepte múltiples parámetros.\n",
    "\n",
    "Pero, si queremos obtener múltiples valores que sean independientes el uno del otro (o que se puedan invertir), en la mísma corrida de la función lo que necesitamos hacer es utilizar `tuples()` (tuplas). Las `tuplas()` tienen un parecido a las listas en las cuales alojamos elementos. A continuación se describen algunas características:\n",
    "\n",
    "* Las _tuplas_ a diferencia de las listas usan paréntesis `()` en lugar de corchetes `[]`.\n",
    "* Las _tuplas_ al igual que las listas pueden contener múltiples elementos.\n",
    "* Las _tuplas_ a diferencia de las listas son inmutables.\n",
    "* Podemos desempaquetar sus valores en una sola línea, o sea:\n",
    "```python\n",
    "tupla=(1,2,3)\n",
    "a, b, c = tupla\n",
    "`print(a)`\n",
    "```\n",
    "`1`\n",
    "\n",
    "* ~~`tupla[index] = nuevo_valor`~~ Como las tuplas son inmutables, cuando necesitamos cambiar un elemento, es necesario desempaquetar y modificar el elemento deseado. Por ejemplo:\n",
    "```python\n",
    "tupla=(1,2,3)\n",
    "a,b,c=tupla\n",
    "tupla=(4,b,c)\n",
    "print(tupla)\n",
    "```\n",
    "`(4,2,3)`\n",
    "\n",
    "* También podemos accesar a sus elementos de la mísma forma que una lista, o sea `tupla[0]=1`\n",
    "\n",
    "Con la información anteriro ejecutarémos la función `potencia`, con la diferencia de que en esta ocasión también se nos entregará el reciproco de nuestros argumentos."
   ]
  },
  {
   "cell_type": "code",
   "execution_count": 6,
   "metadata": {},
   "outputs": [
    {
     "name": "stdout",
     "output_type": "stream",
     "text": [
      "(9, 8)\n"
     ]
    }
   ],
   "source": [
    "def potencia(base,exponente):\n",
    "    \"\"\"Esta función elevará una base al exponente indicado.\"\"\"\n",
    "    resultado_1=base**exponente\n",
    "    resultado_2=exponente**base\n",
    "    resultado=(resultado_1,resultado_2)\n",
    "    return resultado\n",
    "\n",
    "valor = potencia(3,2)\n",
    "print(valor)"
   ]
  },
  {
   "cell_type": "markdown",
   "metadata": {},
   "source": [
    "La variable `resultado` en esta ocasión cuenta con una estructura de _tupla_. Cuando la función es llamada con los argumentos, `3` y `2`, la vribale `resultado` alojará dos elementos que serán independientes uno del otro. \n",
    "\n",
    " –_Y sí... ¿Necesitamos imprimir, individualmente, las variables `resultado1` y `resultado2`?–_. \n",
    " \n",
    " Recordemos que al ser una tupla la variable `valor` aloja a `resultado1` y `resultado2` al mismo tiempo. Para ello es necesario desempaquetar la variable `resultado` en dos variables adicionales (`res_a` y `res_b`) que podamos imprimir independientemente."
   ]
  },
  {
   "cell_type": "code",
   "execution_count": 7,
   "metadata": {},
   "outputs": [
    {
     "name": "stdout",
     "output_type": "stream",
     "text": [
      "9\n",
      "8\n"
     ]
    }
   ],
   "source": [
    "def potencia(base,exponente):\n",
    "    \"\"\"Esta función elevará una base al exponente indicado.\"\"\"\n",
    "    resultado_1=base**exponente\n",
    "    resultado_2=exponente**base\n",
    "    resultado=(resultado_1,resultado_2)\n",
    "    return resultado\n",
    "\n",
    "res_a, res_b = potencia(3,2)\n",
    "print(res_a)\n",
    "print(res_b)"
   ]
  },
  {
   "cell_type": "markdown",
   "metadata": {},
   "source": [
    "#### **Ejercicio**\n",
    "\n",
    "El siguiente _DataFrame_ contiene datos de los diferentes depósitos minerales en el mundo, de la fuente _USGS_. En el atributo `country` hace referencia al país.\n",
    "\n",
    "–_Necesitamos realizar un conteo para saber; –¿Cuantos paises existen para cada uno de los depositos en el dataset?–..._ \n",
    "\n",
    "Para ello nos apoyarémos de la librería de _Pandas_ y el archivo `ore_deposits.csv`."
   ]
  },
  {
   "cell_type": "code",
   "execution_count": 8,
   "metadata": {},
   "outputs": [
    {
     "data": {
      "text/html": [
       "<div>\n",
       "<style scoped>\n",
       "    .dataframe tbody tr th:only-of-type {\n",
       "        vertical-align: middle;\n",
       "    }\n",
       "\n",
       "    .dataframe tbody tr th {\n",
       "        vertical-align: top;\n",
       "    }\n",
       "\n",
       "    .dataframe thead th {\n",
       "        text-align: right;\n",
       "    }\n",
       "</style>\n",
       "<table border=\"1\" class=\"dataframe\">\n",
       "  <thead>\n",
       "    <tr style=\"text-align: right;\">\n",
       "      <th></th>\n",
       "      <th>gid</th>\n",
       "      <th>dep_name</th>\n",
       "      <th>country</th>\n",
       "      <th>state</th>\n",
       "      <th>latitude</th>\n",
       "      <th>longitude</th>\n",
       "      <th>commodity</th>\n",
       "      <th>dep_type</th>\n",
       "      <th>type_detail</th>\n",
       "      <th>model_code</th>\n",
       "      <th>model_name</th>\n",
       "      <th>metallic</th>\n",
       "      <th>citation</th>\n",
       "    </tr>\n",
       "  </thead>\n",
       "  <tbody>\n",
       "    <tr>\n",
       "      <th>0</th>\n",
       "      <td>1</td>\n",
       "      <td>Obatu-Shela</td>\n",
       "      <td>Afghanistan</td>\n",
       "      <td>NaN</td>\n",
       "      <td>32.0000</td>\n",
       "      <td>66.2833</td>\n",
       "      <td>Aluminum</td>\n",
       "      <td>Surficial</td>\n",
       "      <td>NaN</td>\n",
       "      <td>NaN</td>\n",
       "      <td>NaN</td>\n",
       "      <td>NaN</td>\n",
       "      <td>Orris and Bliss, 2002</td>\n",
       "    </tr>\n",
       "    <tr>\n",
       "      <th>1</th>\n",
       "      <td>2</td>\n",
       "      <td>Hagigak</td>\n",
       "      <td>Afghanistan</td>\n",
       "      <td>NaN</td>\n",
       "      <td>34.6778</td>\n",
       "      <td>68.0625</td>\n",
       "      <td>Barite</td>\n",
       "      <td>Hydrothermal</td>\n",
       "      <td>NaN</td>\n",
       "      <td>NaN</td>\n",
       "      <td>NaN</td>\n",
       "      <td>NaN</td>\n",
       "      <td>Orris and Bliss, 2002</td>\n",
       "    </tr>\n",
       "    <tr>\n",
       "      <th>2</th>\n",
       "      <td>3</td>\n",
       "      <td>Darrahe-Nur</td>\n",
       "      <td>Afghanistan</td>\n",
       "      <td>NaN</td>\n",
       "      <td>34.6611</td>\n",
       "      <td>70.5417</td>\n",
       "      <td>Beryllium-niobium,tin</td>\n",
       "      <td>Igneous</td>\n",
       "      <td>NaN</td>\n",
       "      <td>NaN</td>\n",
       "      <td>NaN</td>\n",
       "      <td>NaN</td>\n",
       "      <td>Orris and Bliss, 2002</td>\n",
       "    </tr>\n",
       "    <tr>\n",
       "      <th>3</th>\n",
       "      <td>4</td>\n",
       "      <td>Loghar</td>\n",
       "      <td>Afghanistan</td>\n",
       "      <td>NaN</td>\n",
       "      <td>34.1670</td>\n",
       "      <td>68.0330</td>\n",
       "      <td>Chromium</td>\n",
       "      <td>Igneous</td>\n",
       "      <td>NaN</td>\n",
       "      <td>NaN</td>\n",
       "      <td>NaN</td>\n",
       "      <td>NaN</td>\n",
       "      <td>Orris and Bliss, 2002</td>\n",
       "    </tr>\n",
       "    <tr>\n",
       "      <th>4</th>\n",
       "      <td>5</td>\n",
       "      <td>Aynak</td>\n",
       "      <td>Afghanistan</td>\n",
       "      <td>NaN</td>\n",
       "      <td>34.2660</td>\n",
       "      <td>69.3010</td>\n",
       "      <td>Copper</td>\n",
       "      <td>Sedimentary</td>\n",
       "      <td>NaN</td>\n",
       "      <td>NaN</td>\n",
       "      <td>NaN</td>\n",
       "      <td>NaN</td>\n",
       "      <td>ESCAP, 1996</td>\n",
       "    </tr>\n",
       "  </tbody>\n",
       "</table>\n",
       "</div>"
      ],
      "text/plain": [
       "   gid     dep_name      country state  latitude  longitude  \\\n",
       "0    1  Obatu-Shela  Afghanistan   NaN   32.0000    66.2833   \n",
       "1    2      Hagigak  Afghanistan   NaN   34.6778    68.0625   \n",
       "2    3  Darrahe-Nur  Afghanistan   NaN   34.6611    70.5417   \n",
       "3    4       Loghar  Afghanistan   NaN   34.1670    68.0330   \n",
       "4    5        Aynak  Afghanistan   NaN   34.2660    69.3010   \n",
       "\n",
       "               commodity      dep_type type_detail model_code model_name  \\\n",
       "0               Aluminum     Surficial         NaN        NaN        NaN   \n",
       "1                 Barite  Hydrothermal         NaN        NaN        NaN   \n",
       "2  Beryllium-niobium,tin       Igneous         NaN        NaN        NaN   \n",
       "3               Chromium       Igneous         NaN        NaN        NaN   \n",
       "4                 Copper   Sedimentary         NaN        NaN        NaN   \n",
       "\n",
       "  metallic               citation  \n",
       "0      NaN  Orris and Bliss, 2002  \n",
       "1      NaN  Orris and Bliss, 2002  \n",
       "2      NaN  Orris and Bliss, 2002  \n",
       "3      NaN  Orris and Bliss, 2002  \n",
       "4      NaN            ESCAP, 1996  "
      ]
     },
     "execution_count": 8,
     "metadata": {},
     "output_type": "execute_result"
    }
   ],
   "source": [
    "import pandas as pd\n",
    "df=pd.read_csv('ore_deposits.csv')\n",
    "df.head()"
   ]
  },
  {
   "cell_type": "markdown",
   "metadata": {},
   "source": [
    "Para ser eficientes en nuestra consulta iterarémos en la columna `country` mediante un _loop_. La intención es la siguiente:\n",
    "* Se construirá un diccionarío vacio llamado `dic_country`.\n",
    "* Aislaremos la columna `country` del _DataFrame_ en una nueva variable llamada `cty` la cual iterarémos.\n",
    "* Con ayuda de _control flow_ (`if-else`) el _loop_ (`for`) nos servirá de iterador. \n",
    "* Con ayuda del método `.keys()` cada iteración se comparará con elementos de su misma clase (`in`) dentro del diccionario.\n",
    "* Si en dicha iteración, la clase de `cty`, ya se encuentra en el diccionario, este aumentará en uno su valor. \n",
    "* Si no (`else`) partimos de la idea que es el primer valor para dicha clase en `cty`. "
   ]
  },
  {
   "cell_type": "code",
   "execution_count": 9,
   "metadata": {},
   "outputs": [
    {
     "name": "stdout",
     "output_type": "stream",
     "text": [
      "{'Afghanistan': 16, 'Australia': 57, 'Bangladesh': 1, 'Bhutan': 2, 'Burma': 7, 'Cambodia': 5, 'China': 156, 'Fiji': 2, 'India': 34, 'Indonesia': 10, 'Japan': 29, 'Korean Peninsula': 7, 'Laos': 7, 'Malaysia': 4, 'Mongolia': 51, 'Nepal': 1, 'New Caledonia': 4, 'New Zealand': 8, 'Pakistan': 17, 'Papua New Guinea': 5, 'Philippines': 19, 'Sri Lanka': 5, 'Thailand': 11, 'Vietnam': 9, 'United States': 382, 'Argentina': 36, 'Bolivia': 23, 'Brazil': 64, 'Canada': 122, 'Chile': 47, 'Colombia': 9, 'Costa Rica': 1, 'Cuba': 3, 'Dominican Republic': 2, 'Ecuador': 5, 'Guatemala': 2, 'Guyana': 3, 'Honduras': 1, 'Jamaica': 2, 'Mexico': 84, 'Panama': 2, 'Peru': 25, 'Puerto Rico': 1, 'Surinam': 3, 'Uruguay': 1, 'Venezuela': 3, 'Albania': 3, 'Armenia': 4, 'Austria': 10, 'Azerbaijan': 1, 'Belarus': 6, 'Belgium': 1, 'Bulgaria': 7, 'Czech Republic': 12, 'Finland': 22, 'France': 17, 'Georgia': 8, 'Germany': 24, 'Greece': 9, 'Hungary': 6, 'Ireland': 3, 'Italy': 15, 'Kalaallit Nunaat (Greenland)': 15, 'Kazakhstan': 140, 'Kyrgyzstan': 20, 'Luxenbourg': 1, 'Macedonia': 3, 'Norway': 9, 'Poland': 7, 'Portugal': 5, 'Romania': 6, 'Russia': 300, 'Serbia and Montenegro': 3, 'Slovakia': 10, 'Slovenia': 1, 'Spain': 24, 'Sweden': 13, 'Tajikistan': 14, 'Turkmenistan': 9, 'Ukraine': 28, 'United Kingdom': 14, 'Uzbekistan': 18, 'Bosnia-Herzegovina': 2, 'Cyprus': 6, 'Iceland': 1, 'Netherlands': 3, 'Slovakia?': 1, 'Algeria': 79, 'Angola': 13, 'Benin': 2, 'Botswana': 16, 'Burkina Faso': 6, 'Burundi': 2, 'Cameroon': 3, 'Central African Republic': 2, 'Congo (Brazzaville)': 3, 'Congo (Kinshasa)': 36, 'Côte D\\x92Ivoire': 8, 'Egypt': 74, 'Eritrea': 1, 'Ethiopia': 15, 'Gabon': 4, 'Ghana': 18, 'Guinea': 16, 'Iran': 18, 'Iraq': 4, 'Israel': 6, 'Jordan': 6, 'Kenya': 17, 'Lesotho': 1, 'Liberia': 8, 'Libya': 12, 'Madagascar': 26, 'Malawi': 6, 'Mali': 4, 'Mauritania': 7, 'Morocco': 49, 'Mozambique': 16, 'Namibia': 30, 'Niger': 3, 'Nigeria': 6, 'Oman': 2, 'Rwanda': 1, 'Saudi Arabia': 23, 'Senegal': 5, 'Sierra Leone': 17, 'Somalia': 4, 'South Africa': 271, 'Sudan': 6, 'Swaziland': 5, 'Syria': 1, 'Tanzania': 18, 'The Gambia': 1, 'Togo': 2, 'Tunisia': 34, 'Turkey': 21, 'Uganda': 7, 'Western Sahara': 1, 'Yemen': 1, 'Zambia': 31, 'Zimbabwe': 111}\n"
     ]
    }
   ],
   "source": [
    "dic_country = {}\n",
    "\n",
    "col = df['country']\n",
    "\n",
    "for iteracion in col:\n",
    "\n",
    "    if iteracion in dic_country.keys():\n",
    "        dic_country[iteracion] += 1\n",
    "   \n",
    "    else:\n",
    "        dic_country[iteracion] = 1\n",
    "\n",
    "print(dic_country)"
   ]
  },
  {
   "cell_type": "markdown",
   "metadata": {},
   "source": [
    "_–Ahora supongamos que necesitamos realizar el mísmo procedimiento para diferentes archivos .csv, donde todos tienen la mísma columna `country`, o no–_. Tendríamos que mandar llamar al dataset y después separa su columna `country` o la comumna que contenga la información que pedímos. \n",
    "\n",
    "Parecería que es una forma eficiente. Pero hay que recordar que una función nos ayuda a automatizar procesos dentro del cuerpo de nuestro código. \n",
    "\n",
    "Lo que necesitamos hacer es construir una función a la cual le asignemos 2 argumentos (`DataFrame`,`columna`) y que nos devuelva el mísmo diccionario con los resultados para cada uno de los paises.\n",
    "\n",
    "A diferencia del _control flow_ (`for` anterior) solo necesitamos:\n",
    "* Definir la función `conteo_coutry` y sus parámetros.\n",
    "* Agregar _doc strings_ para especificar el proceso.\n",
    "\n",
    "En este ejercicio los parámetros serán `(tabla,columna)`. Y los argumentos serán: la variable que contienen el _DataFrame_, que llamarémos (`df`). Y la columna que iterarémos, la cual suponemos siempre tendrá el mismo nombre `country`. \n",
    "\n",
    "Así, cada vez que indiquemos el nombre de nuestra columna a iterar, en nuestra fucnión, no importa si el nombre es `country`,`pais`,`etc`,`etc`... La función identificará, en el _DataFrame_, la columna objetivo para trabajar. "
   ]
  },
  {
   "cell_type": "code",
   "execution_count": 10,
   "metadata": {},
   "outputs": [
    {
     "name": "stdout",
     "output_type": "stream",
     "text": [
      "{'Afghanistan': 16, 'Australia': 57, 'Bangladesh': 1, 'Bhutan': 2, 'Burma': 7, 'Cambodia': 5, 'China': 156, 'Fiji': 2, 'India': 34, 'Indonesia': 10, 'Japan': 29, 'Korean Peninsula': 7, 'Laos': 7, 'Malaysia': 4, 'Mongolia': 51, 'Nepal': 1, 'New Caledonia': 4, 'New Zealand': 8, 'Pakistan': 17, 'Papua New Guinea': 5, 'Philippines': 19, 'Sri Lanka': 5, 'Thailand': 11, 'Vietnam': 9, 'United States': 382, 'Argentina': 36, 'Bolivia': 23, 'Brazil': 64, 'Canada': 122, 'Chile': 47, 'Colombia': 9, 'Costa Rica': 1, 'Cuba': 3, 'Dominican Republic': 2, 'Ecuador': 5, 'Guatemala': 2, 'Guyana': 3, 'Honduras': 1, 'Jamaica': 2, 'Mexico': 84, 'Panama': 2, 'Peru': 25, 'Puerto Rico': 1, 'Surinam': 3, 'Uruguay': 1, 'Venezuela': 3, 'Albania': 3, 'Armenia': 4, 'Austria': 10, 'Azerbaijan': 1, 'Belarus': 6, 'Belgium': 1, 'Bulgaria': 7, 'Czech Republic': 12, 'Finland': 22, 'France': 17, 'Georgia': 8, 'Germany': 24, 'Greece': 9, 'Hungary': 6, 'Ireland': 3, 'Italy': 15, 'Kalaallit Nunaat (Greenland)': 15, 'Kazakhstan': 140, 'Kyrgyzstan': 20, 'Luxenbourg': 1, 'Macedonia': 3, 'Norway': 9, 'Poland': 7, 'Portugal': 5, 'Romania': 6, 'Russia': 300, 'Serbia and Montenegro': 3, 'Slovakia': 10, 'Slovenia': 1, 'Spain': 24, 'Sweden': 13, 'Tajikistan': 14, 'Turkmenistan': 9, 'Ukraine': 28, 'United Kingdom': 14, 'Uzbekistan': 18, 'Bosnia-Herzegovina': 2, 'Cyprus': 6, 'Iceland': 1, 'Netherlands': 3, 'Slovakia?': 1, 'Algeria': 79, 'Angola': 13, 'Benin': 2, 'Botswana': 16, 'Burkina Faso': 6, 'Burundi': 2, 'Cameroon': 3, 'Central African Republic': 2, 'Congo (Brazzaville)': 3, 'Congo (Kinshasa)': 36, 'Côte D\\x92Ivoire': 8, 'Egypt': 74, 'Eritrea': 1, 'Ethiopia': 15, 'Gabon': 4, 'Ghana': 18, 'Guinea': 16, 'Iran': 18, 'Iraq': 4, 'Israel': 6, 'Jordan': 6, 'Kenya': 17, 'Lesotho': 1, 'Liberia': 8, 'Libya': 12, 'Madagascar': 26, 'Malawi': 6, 'Mali': 4, 'Mauritania': 7, 'Morocco': 49, 'Mozambique': 16, 'Namibia': 30, 'Niger': 3, 'Nigeria': 6, 'Oman': 2, 'Rwanda': 1, 'Saudi Arabia': 23, 'Senegal': 5, 'Sierra Leone': 17, 'Somalia': 4, 'South Africa': 271, 'Sudan': 6, 'Swaziland': 5, 'Syria': 1, 'Tanzania': 18, 'The Gambia': 1, 'Togo': 2, 'Tunisia': 34, 'Turkey': 21, 'Uganda': 7, 'Western Sahara': 1, 'Yemen': 1, 'Zambia': 31, 'Zimbabwe': 111}\n"
     ]
    }
   ],
   "source": [
    "def conteo_country(tabla,columna):\n",
    "    \n",
    "    \"\"\"Esta fucnión realiza un conteo de los diferentes paises presentes en la columna 'country'. El resultado es\n",
    "    un diccionario con los valores para cada uno de ellos.\"\"\"\n",
    "    \n",
    "    dic_cty = {}\n",
    "\n",
    "    col = tabla[columna]\n",
    "    \n",
    "    for iteracion in col:\n",
    "\n",
    "        if iteracion in dic_cty.keys():\n",
    "            dic_cty[iteracion] += 1\n",
    "   \n",
    "        else:\n",
    "            dic_cty[iteracion] = 1\n",
    "    \n",
    "    return dic_cty\n",
    "\n",
    "resultados=conteo_country(df,'country')\n",
    "\n",
    "print(resultados)"
   ]
  },
  {
   "cell_type": "markdown",
   "metadata": {},
   "source": [
    "### _**SCOPE**_\n",
    "\n",
    "En la literatura, especialmente de _python_, el termino **scope** tiene el siguiente significado:\n",
    "><img src=\"blockquote.png\"> _**–Es el alcance (acceso) que tienen nuestras varibles definidas en nuestras funciones, scripts o programas–**_\n",
    "\n",
    "Cuando definimos nuestras variables en python estas pueden tener un efecto solo en una parte de nuestro programa o un impacto global. En _python_ hay tres tipos tipos de _scope_:\n",
    "* **Global scope** el cual se define en el cuerpo de un script o de un programa y que siempre podamos tener acceso a ella.\n",
    "* **Local scope** solo está definido dentro de nuestra función. Es como si fuera de paso y no podemos tener acceso a él o más allá del cuerpo de la función que construimos.\n",
    "* **Built-in scope** estas son predefinidas en python, como la función `print()`.\n",
    "\n",
    "En los ejemplos anteriores definimos la función que elevaba un número (`parametro`) al exponente `2`:\n",
    "```python\n",
    "def cuadrado(parametro):\n",
    "    \"\"\"Esta función elevará e imprimirá el cuadrado de culaquier número.\"\"\"\n",
    "    nuevo_valor=parametro**2\n",
    "    return nuevo_valor\n",
    "\n",
    "resultado = cuadrado(4)\n",
    "print(resultado)\n",
    "```\n",
    "`16`\n",
    "\n",
    "Definíamos nuestra función para después mandarla a llamar con la función `print()`. Pero, _–¿Qué pasa si queremos tener acceso a la variable `nuevo_valor`?...–_ \n",
    "\n",
    "Se nos arrojaría un error como este:"
   ]
  },
  {
   "cell_type": "code",
   "execution_count": 11,
   "metadata": {},
   "outputs": [
    {
     "ename": "NameError",
     "evalue": "name 'nuevo_valor' is not defined",
     "output_type": "error",
     "traceback": [
      "\u001b[0;31m---------------------------------------------------------------------------\u001b[0m",
      "\u001b[0;31mNameError\u001b[0m                                 Traceback (most recent call last)",
      "\u001b[0;32m<ipython-input-11-590616ce199b>\u001b[0m in \u001b[0;36m<module>\u001b[0;34m\u001b[0m\n\u001b[0;32m----> 1\u001b[0;31m \u001b[0mnuevo_valor\u001b[0m\u001b[0;34m\u001b[0m\u001b[0;34m\u001b[0m\u001b[0m\n\u001b[0m",
      "\u001b[0;31mNameError\u001b[0m: name 'nuevo_valor' is not defined"
     ]
    }
   ],
   "source": [
    "nuevo_valor"
   ]
  },
  {
   "cell_type": "markdown",
   "metadata": {},
   "source": [
    "Esto se debe a que `nuevo_valor` fue definida localmente (_local scope_) y no globalmente (_global scope_).\n",
    "\n",
    "Si nosotros definimos a la variable `nuevo_valor = 6`, antes de la función, podrémos tener acceso a ella cada vez que la necesitemos ver. Incluso si es la misma que la declarada dentro de nuestra función `cuadrado`:\n",
    "```python\n",
    "nuevo_valor=6\n",
    "\n",
    "def cuadrado(parametro):\n",
    "    \"\"\"Esta función elevará e imprimirá el cuadrado de culaquier número.\"\"\"\n",
    "    nuevo_valor=parametro**2\n",
    "    return nuevo_valor\n",
    "\n",
    "resultado = cuadrado(4)\n",
    "print(resultado)\n",
    "```\n",
    "`16`\n",
    "```python\n",
    "print(nuevo_valor)\n",
    "```\n",
    "`6`\n",
    "\n",
    "Esto se debe a que el valor de la variable `nuevo_valor` adquirió un estatus global antes de ser llamada dentro de la función `cuadrado`. \n",
    "\n",
    "Ahora introduzcamos la variable `nuevo_valor` como parte de la definición de la función `cuadrado`. Notese que el resultado será `36` y no `16`. La función `cuadrado` es ejecutada, pero ignora el argumento `4` y trabaja con la variable `nuevo_valor`. "
   ]
  },
  {
   "cell_type": "code",
   "execution_count": 12,
   "metadata": {},
   "outputs": [
    {
     "name": "stdout",
     "output_type": "stream",
     "text": [
      "36\n"
     ]
    }
   ],
   "source": [
    "nuevo_valor=6\n",
    "def cuadrado(parametro):\n",
    "    \"\"\"Esta función elevará e imprimirá el cuadrado de culaquier número.\"\"\"\n",
    "    nuevo_valor2=nuevo_valor**2\n",
    "    return nuevo_valor2\n",
    "\n",
    "resultado = cuadrado(4)\n",
    "print(resultado)"
   ]
  },
  {
   "cell_type": "markdown",
   "metadata": {},
   "source": [
    "Para poder tener acceso a ambos valores (_global scope y local scope_) es posible utilizar la función `global()` para la variable `nuevo_valor`. De esta manera la función `cuadrado` trabajará con la variable `nuevo_valor` y podremos tener acceso a ella por que ya esta definida globalmente. Por eso es que el resultado en lugar de ser `6` es `36`."
   ]
  },
  {
   "cell_type": "code",
   "execution_count": 13,
   "metadata": {},
   "outputs": [
    {
     "name": "stdout",
     "output_type": "stream",
     "text": [
      "36\n"
     ]
    }
   ],
   "source": [
    "nuevo_valor=6\n",
    "def cuadrado(parametro):\n",
    "    \"\"\"Esta función elevará e imprimirá el cuadrado de culaquier número.\"\"\"\n",
    "    global nuevo_valor\n",
    "    nuevo_valor=nuevo_valor**2\n",
    "    return nuevo_valor\n",
    "\n",
    "resultado = cuadrado(4)\n",
    "print(resultado)"
   ]
  },
  {
   "cell_type": "code",
   "execution_count": null,
   "metadata": {},
   "outputs": [],
   "source": [
    "nuevo_valor"
   ]
  },
  {
   "cell_type": "markdown",
   "metadata": {},
   "source": [
    "Independientemente del ejercico anterior imaginemos que necesitamos alterar el valor de una variable global (_global scope_). Para ello necesitamos utilizar la función `global()` para poder realizarlo. Por ejemplo: _–La variable `nuevo_valor` necesita cambiar de valor `6` a `potencia`.–_"
   ]
  },
  {
   "cell_type": "code",
   "execution_count": 14,
   "metadata": {},
   "outputs": [
    {
     "name": "stdout",
     "output_type": "stream",
     "text": [
      "6\n",
      "potencia\n"
     ]
    }
   ],
   "source": [
    "nuevo_valor = 6\n",
    "\n",
    "def cambio_nuevo_valor():\n",
    "    \"\"\"Cambiamos el valor de la variable 'nuevo_valor'\"\"\"\n",
    "\n",
    "    global nuevo_valor\n",
    "\n",
    "    nuevo_valor='potencia'\n",
    "\n",
    "print(nuevo_valor)\n",
    "\n",
    "cambio_nuevo_valor()\n",
    "\n",
    "# Print team\n",
    "print(nuevo_valor)"
   ]
  },
  {
   "cell_type": "markdown",
   "metadata": {},
   "source": [
    "### _**NESTED FUNCTIONS**_\n",
    "##### (Funciones anidadas)\n",
    "\n",
    "Una vez revisado los conceptos de _globa, local, built-in scope_ podemos pasar a la construcción de funciones un poco más complejas. Es el caso cuando se tienen fucniones dentro de otras (_nested funcitons_).\n",
    "\n",
    "Los conceptos anteriores son importaes por que nos dan la idea de conocer como se están comportando nuestras variable cuando se ejecutan. Cuanto más compleja sean nuestras fucniones la asignación de varibales será mayor. Por ejemplo: \n",
    "```python\n",
    "def fuera (...):\n",
    "    \"\"\"....\"\"\"\n",
    "    x = ...\n",
    "    \n",
    "    def dentro (...):\n",
    "        \"\"\"....\"\"\"\n",
    "        y = x ** 2\n",
    "        \n",
    "    return ...\n",
    "```\n",
    "\n",
    "El código anterior tiene dos fucniones, están anidadas. La funcion `dentro()` hace referencia a la funciión `fuera()` mediante la variable `x`. La lógica de todo esto sería buscar primero la variable `x` dentro de _local scope_ en la fucnión `dentro`. Si esta no se encuentra definida buscará encontrarse dentro de _local scope_ de la función `fuera`. De no encontrarse procederá a buscarse en _global scope_ y por último en _built scope_.\n",
    "\n",
    "Pero: _–¿Cúal es la necesidad de contruir funciones anidadas?–_...\n",
    "\n",
    "Observemos la siguiente función:\n",
    "```python\n",
    "def suma(x1,x2,x3):\n",
    "    \"\"\"Realiza la adición '2 + 5' a 3 parámetros\"\"\"\n",
    "    \n",
    "    adi_x1 = x1 % 2 + 5\n",
    "    adi_x2 = x2 % 2 + 5\n",
    "    adi_x3 = x1 % 2 + 5\n",
    "    \n",
    "    return (adi_x1, adi_x2, adi_x3)\n",
    "```\n",
    "\n",
    "En la función anterior anterior es necesario pasar 3 argumentos para que a cada uno de ellos sea dividido, obtenga su residuo (`%`) y se le sume el valor de `5`. Sin ningún problema se llevará a cabo, pero computacionalmente no es escalable. Sobre todo cuando las tareas son más complejas. \n",
    "\n",
    "Lo que podemos hacer es definir una función que anide a otra para que esta opere las veces necesarias. Así la operación estará definida solo una vez y no para cada iteración."
   ]
  },
  {
   "cell_type": "code",
   "execution_count": 15,
   "metadata": {},
   "outputs": [
    {
     "name": "stdout",
     "output_type": "stream",
     "text": [
      "(6, 5, 6)\n"
     ]
    }
   ],
   "source": [
    "def multisum_fuera(x1,x2,x3):\n",
    "    \"\"\"Esta parte de la función nos regresa cada uno de las sustracciones realizadas.\"\"\"\n",
    "    \n",
    "    def multisum_dentro(x):\n",
    "        \"\"\"Esta parte de la fucnión realiza la operación.\"\"\"\n",
    "        \n",
    "        return x % 2 + 5\n",
    "    \n",
    "    return (multisum_dentro(x1),multisum_dentro(x2),multisum_dentro(x3))\n",
    "\n",
    "print(multisum_fuera(1,2,3))"
   ]
  },
  {
   "cell_type": "markdown",
   "metadata": {},
   "source": [
    "_–La siguiente función anidada eleva un número (`n` cualquiera) a la misma potencia del mísmo número (`n`) indicado.–_\n",
    "\n",
    "Aquí el objetivo es que una función llamada `potencia`, mediante las variables `cuadrado` o `cubo`, etc, etc... pueda obtener el exponente siendo este la misma cantidad. La función `potencia` será encargada de recibir el exponente y la función `dentro` realizará la operación con el exponente delacrado desde `n`. "
   ]
  },
  {
   "cell_type": "code",
   "execution_count": 16,
   "metadata": {},
   "outputs": [
    {
     "name": "stdout",
     "output_type": "stream",
     "text": [
      "(4, 27, 3125)\n"
     ]
    }
   ],
   "source": [
    "def potencia (n):\n",
    "    \"\"\"Nos regresa los resultados de las operaciones\"\"\"\n",
    "    \n",
    "    def dentro(x):\n",
    "        \"\"\"Realiza la operación a los exponentes\"\"\"\n",
    "        \n",
    "        eleva=x**n\n",
    "        return eleva\n",
    "    \n",
    "    return dentro\n",
    "\n",
    "cuadrado= potencia(2)\n",
    "cubo = potencia(3)\n",
    "quinta = potencia (5)\n",
    "\n",
    "print((cuadrado(2),cubo(3), quinta(5)))"
   ]
  },
  {
   "cell_type": "markdown",
   "metadata": {},
   "source": [
    "_–Necesitamos construir una función que concatene tres elementos de la tabla períodica con `Cl`.–_ Si queremos utilizar funciones anidadas esta sería una opción:"
   ]
  },
  {
   "cell_type": "code",
   "execution_count": 17,
   "metadata": {},
   "outputs": [
    {
     "name": "stdout",
     "output_type": "stream",
     "text": [
      "('NaCl', 'AgCl', 'HgCl')\n"
     ]
    }
   ],
   "source": [
    "def cloruros(elemen1, elemen2, elemen3):\n",
    "    \"\"\"Mandamos a llamar los argumentos de la función como parámetro\"\"\"\n",
    "\n",
    "    def concat(iteracion):\n",
    "        \"\"\"Retornamos cada parámetro concatenado con 'Cl'.\"\"\"\n",
    "        return iteracion + 'Cl'\n",
    "\n",
    "    return (concat(elemen1), concat(elemen2), concat(elemen3))\n",
    "\n",
    "print(cloruros('Na', 'Ag', 'Hg'))"
   ]
  },
  {
   "cell_type": "markdown",
   "metadata": {},
   "source": [
    "Cada vez que mandamos a llamar la función `cloruros` los argumentos `Na`,`Ag` y `Hg` son adoptados en la definición de la función `def cloruros(elemen1, elemen2, elemen3)`. Para que puedan ser concatenados es necesario anidar dentro de la función `cloruros` una función que realice este procedimiento. Su nombre es `concat`. \n",
    "\n",
    "Después de que `concat` tome uno de los argumento de `cloruros` el nuevo argumento `iteracion` tomará su lugar. `concat` lo concatenará con `Cl`. Hay que observar que para mandar llamar la función interna `concat` es necesario utilizar `(concat(elemen1), concat(elemen2), concat(elemen3))`\n",
    "\n",
    "##### _NONLOCAL_\n",
    "\n",
    "Cuando trabajamos con los conceptos de _scope_ pudímos enender que teníamos un alcance o un determinado acceso a las variables dentro de nuestras funciones. Si una variable se había definido globalmente podíamos cambiar su valor con la función `global`.\n",
    "\n",
    "Cuando trabajamos con funciones anidadas `nonlocal` toma el lugar de `global`. Así podemos cambiar el valor de una variable definida globalmente cuando está dentro de una función anidada. En el siguiente ejemplo podrémos observar como el argumento de la fucnión `repeticion` es concatenado consigomismo e impreso. Después entra a la función `cloruros` para ser concatenado con `Cl` y depués también ser impreso:\n",
    "```python\n",
    "# Definición de la función externa, saludo.\n",
    "def copias(elemento):\n",
    "    \"\"\"Concatenación consigomisma el parámetro elemento\"\"\"\n",
    "    \n",
    "    copia = elemento*2\n",
    "    \n",
    "    # Impresión de las copias.\n",
    "    print(copia)\n",
    "    \n",
    "    # Definición de la función interna cloruro.\n",
    "    def cloruro():\n",
    "        \"\"\"Esta función interna cambiará el valor de la variable copia \"\"\"\n",
    "        \n",
    "        # Con nonlocal alteramos podemos alterar el valor de una varible definida anteriormente.\n",
    "        nonlocal copia\n",
    "        \n",
    "        # Concatenación del antiguo valor de 'resultado' con  '!!!'.\n",
    "        copia = copia + 'Cl'\n",
    "    \n",
    "    # LLamado a la función 'cloruro', sin nigún argumento en especial.\n",
    "    cloruro()\n",
    "    \n",
    "    # Print echo_word\n",
    "    print(copia)\n",
    "\n",
    "# Con el argumento 'Na' llamamos ala función copias\n",
    "copias('Na')\n",
    "```\n",
    "```python\n",
    "NaNa\n",
    "NaNaCl\n",
    "```"
   ]
  },
  {
   "cell_type": "markdown",
   "metadata": {},
   "source": [
    "### _**Valores de parámetros por defecto (default) y flexibles**_\n",
    "#### **Default**\n",
    "Imaginemos el siguiente problema:\n",
    "\n",
    "–_Necesitamos exponenciar un número `n` a una determinada cantidad. El priemer argumento es el número elegido y el segundo será el valor de nuestro exponente. Sin embargo queremos que esta funcjión se ejecute aún cuando nosotros no indiquemos el valor del exponente. Es decir; no necesariamente tenemos que trabajar con dos argumentos para ejecutarse correctamente la fucnión.–_\n",
    "\n",
    "En estos casos podrémos indicarle a la función que tenga un valor por defecto para que se pueda llevar a cabo la operación. Observemos lo siguiente:"
   ]
  },
  {
   "cell_type": "code",
   "execution_count": 18,
   "metadata": {},
   "outputs": [
    {
     "name": "stdout",
     "output_type": "stream",
     "text": [
      "9\n"
     ]
    }
   ],
   "source": [
    "def potencia(numero,exponente=1):\n",
    "    \"\"\"Exponente de un número\"\"\"\n",
    "    \n",
    "    resultado=numero**exponente\n",
    "    return resultado\n",
    "\n",
    "print(potencia(3,2))"
   ]
  },
  {
   "cell_type": "markdown",
   "metadata": {},
   "source": [
    "La función elevó a la potencia `2` el número `3`. A continuación volvemos a jecutar la función `potencia`, pero sin especificar un segundo argumento."
   ]
  },
  {
   "cell_type": "code",
   "execution_count": 19,
   "metadata": {},
   "outputs": [
    {
     "name": "stdout",
     "output_type": "stream",
     "text": [
      "3\n"
     ]
    }
   ],
   "source": [
    "def potencia(numero,exponente=1):\n",
    "    \"\"\"Exponente de un número\"\"\"\n",
    "    \n",
    "    resultado=numero**exponente\n",
    "    return resultado\n",
    "\n",
    "print(potencia(3))"
   ]
  },
  {
   "cell_type": "markdown",
   "metadata": {},
   "source": [
    "Como podemos ver la función se ejecutó sin nigún problema. Observemos que en la fución, como parte de sus parámetros, sea igualado `exponente` a `1`. Si al momento de llamar a nuestra fucnión, _python_ detecta que no se ha agregado un segundo argumento, este por defecto tomará el valor de `exponente`, o sea `1`.\n",
    "\n",
    "_–El siguiente ejemplo concatena un elemento, consigo mismo, un número de veces determinado. Además le agrega `Cl`. Por defecto la función estrá programada para que el parámetro `veces` sea igual a `1`. De lo contrario será necesario indicarle el número de `veces` que va a repetirse.–_ \n",
    "\n",
    "Aprovercharemos el operador `*` para poder repetir el _argumento_. "
   ]
  },
  {
   "cell_type": "code",
   "execution_count": 20,
   "metadata": {},
   "outputs": [
    {
     "name": "stdout",
     "output_type": "stream",
     "text": [
      "HgCl\n",
      "HgHgHgHgHgCl\n"
     ]
    }
   ],
   "source": [
    "def copias(elemento,veces=1):\n",
    "    \"\"\"Concatenación por defecto\"\"\"\n",
    "\n",
    "    elemento_repetido = elemento*veces\n",
    "\n",
    "    repeticiones = elemento_repetido + 'Cl'\n",
    "\n",
    "    return repeticiones\n",
    "\n",
    "por_defecto = copias('Hg')\n",
    "\n",
    "con_repeticiones = copias('Hg',5)\n",
    "\n",
    "print(por_defecto)\n",
    "print(con_repeticiones)"
   ]
  },
  {
   "cell_type": "markdown",
   "metadata": {},
   "source": [
    "_–Ahora cumpliendo una condición; hay que copiar el elemento, concatenarlo con CL, y al final, convertirlo en mayúsculas si nosotros decidimos hacerlo. Por defecto la función esta programada para devolvernos la palabra en minúsculas. En este caso utilizaremos las condiciones `if` y `else`.–_"
   ]
  },
  {
   "cell_type": "code",
   "execution_count": 21,
   "metadata": {},
   "outputs": [
    {
     "name": "stdout",
     "output_type": "stream",
     "text": [
      "AGAGAGAGAGCl\n",
      "HgCl\n"
     ]
    }
   ],
   "source": [
    "def copias(elemento, veces=1, mayuscula=False):\n",
    "    \"\"\"Concatenación por defecto\"\"\"\n",
    "\n",
    "    elemento_repetido = elemento * veces\n",
    "\n",
    "    if mayuscula is True:\n",
    "        nuevo_elemento_repetido = elemento_repetido.upper() + 'Cl'\n",
    "    else:\n",
    "        nuevo_elemento_repetido = elemento_repetido + 'Cl'\n",
    "\n",
    "    return nuevo_elemento_repetido\n",
    "\n",
    "elemento_mayusculas = copias(\"ag\", veces=5, mayuscula=True)\n",
    "\n",
    "elemento_no_mayusculas = copias(\"Hg\")\n",
    "\n",
    "print(elemento_mayusculas)\n",
    "print(elemento_no_mayusculas)"
   ]
  },
  {
   "cell_type": "markdown",
   "metadata": {},
   "source": [
    "#### Flexibles ***args**\n",
    "\n",
    "_–Ahora, imaginemos que es necesario crear una función que sume una cantidad `x` de números. No sabemos cuantos argumentos vamos a dar.–_  \n",
    "\n",
    "Para este problema necesitaríamos definir exactamente la cantidad de argumentos que vamos a sumar. Sin embargo la función tiene que adaptarse a nuestros valores.\n",
    "\n",
    "El _key word_ `*args` nos permite ser flexibles a la hora de ejecutar fucniones con este tipo de problemas. Solo basta con definirla en nuestra fucnión."
   ]
  },
  {
   "cell_type": "code",
   "execution_count": 22,
   "metadata": {},
   "outputs": [],
   "source": [
    "def suma_todo(*args):\n",
    "    \"\"\"Esta función realizará la suma de nuestros arguemtos\"\"\"\n",
    "    \n",
    "    valor_inicial=0\n",
    "    \n",
    "    for n in args:\n",
    "        valor_inicial+=n\n",
    "        \n",
    "    return valor_inicial    "
   ]
  },
  {
   "cell_type": "markdown",
   "metadata": {},
   "source": [
    "Ahora podemos pasar una cantidad `n` de argumentos a nuestra fucnión `suma todo`. "
   ]
  },
  {
   "cell_type": "code",
   "execution_count": 23,
   "metadata": {},
   "outputs": [
    {
     "data": {
      "text/plain": [
       "16"
      ]
     },
     "execution_count": 23,
     "metadata": {},
     "output_type": "execute_result"
    }
   ],
   "source": [
    "suma_todo(2,3,5,6)"
   ]
  },
  {
   "cell_type": "code",
   "execution_count": 24,
   "metadata": {},
   "outputs": [
    {
     "data": {
      "text/plain": [
       "566"
      ]
     },
     "execution_count": 24,
     "metadata": {},
     "output_type": "execute_result"
    }
   ],
   "source": [
    "suma_todo(2,4,6,7,9,2,80,456)"
   ]
  },
  {
   "cell_type": "markdown",
   "metadata": {},
   "source": [
    "_–La siguiente función `trabalenguas` concatena una serie de palabras utilizando `*args` e imprime una nueva con la union de todas en el mejor de los casos. El objetivo es recivir 1 o más palabras (argumentos) y crear una nueva variable, de tipo `str`, llamada `union`, con la union de todas. Para ello nos apoyarémos de un \"loop\" (`for`) para en cada uno de los argumentos de nuestra fucnión.–_"
   ]
  },
  {
   "cell_type": "code",
   "execution_count": 25,
   "metadata": {},
   "outputs": [
    {
     "name": "stdout",
     "output_type": "stream",
     "text": [
      "super\n",
      "supercalifragilisticoespialidoso\n"
     ]
    }
   ],
   "source": [
    "def trabalenguas(*args):\n",
    "    \"\"\"Concatenate strings in *args together.\"\"\"\n",
    "\n",
    "    union=''\n",
    "\n",
    "    for palabra in args:\n",
    "        union += palabra\n",
    "\n",
    "    return union\n",
    "\n",
    "una_palabra = trabalenguas('super')\n",
    "\n",
    "muchas_palabras_unidas = trabalenguas(\"super\", \"cali\", \"fragilistico\", \"espia\", \"lidoso\")\n",
    "\n",
    "print(una_palabra)\n",
    "print(muchas_palabras_unidas)"
   ]
  },
  {
   "cell_type": "markdown",
   "metadata": {},
   "source": [
    "#### Flexibles ***kwargs**\n",
    "\n",
    "A diferencia de `*args` el _key word_ `**kwargs` nos permite introducir en los argumentos de nuestras fucniones variables y sus valores. Aprovecha que `**kwards` está definido como un diccionario para estructurar los argumentos de la forma `key`:`value`. \n",
    "\n",
    "–_La siguiente función `reporte_mineral` nos imprime una lista de minerales; su nombre, clase y roca génesis.–_\n",
    "\n",
    "Nos apoyarémos de `**kwargs` para proporcionarle un nombre, clase y roca a nuestra fucnión en forma de `elemento` (`key`). Y los valores para cada uno de ellos en forma de `valor` (`value`).\n",
    "\n",
    "Los minerales que ingresaremos al reporte serán: _Carbón, Grafito y Diamante_"
   ]
  },
  {
   "cell_type": "code",
   "execution_count": 26,
   "metadata": {},
   "outputs": [
    {
     "name": "stdout",
     "output_type": "stream",
     "text": [
      "\n",
      " MINERAL: CLASE\n",
      "\n",
      "nombre: antracita\n",
      "clase: carbón\n",
      "roca: sedimentaria\n",
      "\n",
      "FIN\n",
      "\n",
      " MINERAL: CLASE\n",
      "\n",
      "nombre: grafito\n",
      "clase: carbón\n",
      "roca: sedimentaria\n",
      "\n",
      "FIN\n",
      "\n",
      " MINERAL: CLASE\n",
      "\n",
      "nombre: diamante\n",
      "clase: carbón\n",
      "roca: ígnea\n",
      "\n",
      "FIN\n"
     ]
    }
   ],
   "source": [
    "def reporte_mineral(**kwargs):\n",
    "    \"\"\"Impresión de la clase a la que pertenesen los minerales.\"\"\"\n",
    "\n",
    "    print(\"\\n MINERAL: CLASE\\n\")\n",
    "\n",
    "    for elemento, valor in kwargs.items():\n",
    "        print(elemento+ \": \" + valor)\n",
    "\n",
    "    print(\"\\nFIN\")\n",
    "\n",
    "# Carbón\n",
    "reporte_mineral(nombre='antracita', clase='carbón', roca='sedimentaria')\n",
    "\n",
    "# Grafito\n",
    "reporte_mineral(nombre='grafito', clase='carbón', roca='sedimentaria')\n",
    "\n",
    "# Diamante\n",
    "reporte_mineral(nombre='diamante', clase='carbón', roca='ígnea')"
   ]
  },
  {
   "cell_type": "markdown",
   "metadata": {},
   "source": [
    "#### **Ejercicio**\n",
    "\n",
    "Regresemos al dataframe con los datos de `ore_deposits.csv`. Mediante una función realizarémos el mismo conteo de paises para cada uno de los depósitos en la columna `country`. Pero en esta ocasión nosotros definirémos el atributo `country` por defecto. Sin embargo el ejecrcicio tiene el proposito de recivir cualquier otro atributo (columna) como parámetro."
   ]
  },
  {
   "cell_type": "code",
   "execution_count": 27,
   "metadata": {},
   "outputs": [
    {
     "name": "stdout",
     "output_type": "stream",
     "text": [
      "{'Afghanistan': 16, 'Australia': 57, 'Bangladesh': 1, 'Bhutan': 2, 'Burma': 7, 'Cambodia': 5, 'China': 156, 'Fiji': 2, 'India': 34, 'Indonesia': 10, 'Japan': 29, 'Korean Peninsula': 7, 'Laos': 7, 'Malaysia': 4, 'Mongolia': 51, 'Nepal': 1, 'New Caledonia': 4, 'New Zealand': 8, 'Pakistan': 17, 'Papua New Guinea': 5, 'Philippines': 19, 'Sri Lanka': 5, 'Thailand': 11, 'Vietnam': 9, 'United States': 382, 'Argentina': 36, 'Bolivia': 23, 'Brazil': 64, 'Canada': 122, 'Chile': 47, 'Colombia': 9, 'Costa Rica': 1, 'Cuba': 3, 'Dominican Republic': 2, 'Ecuador': 5, 'Guatemala': 2, 'Guyana': 3, 'Honduras': 1, 'Jamaica': 2, 'Mexico': 84, 'Panama': 2, 'Peru': 25, 'Puerto Rico': 1, 'Surinam': 3, 'Uruguay': 1, 'Venezuela': 3, 'Albania': 3, 'Armenia': 4, 'Austria': 10, 'Azerbaijan': 1, 'Belarus': 6, 'Belgium': 1, 'Bulgaria': 7, 'Czech Republic': 12, 'Finland': 22, 'France': 17, 'Georgia': 8, 'Germany': 24, 'Greece': 9, 'Hungary': 6, 'Ireland': 3, 'Italy': 15, 'Kalaallit Nunaat (Greenland)': 15, 'Kazakhstan': 140, 'Kyrgyzstan': 20, 'Luxenbourg': 1, 'Macedonia': 3, 'Norway': 9, 'Poland': 7, 'Portugal': 5, 'Romania': 6, 'Russia': 300, 'Serbia and Montenegro': 3, 'Slovakia': 10, 'Slovenia': 1, 'Spain': 24, 'Sweden': 13, 'Tajikistan': 14, 'Turkmenistan': 9, 'Ukraine': 28, 'United Kingdom': 14, 'Uzbekistan': 18, 'Bosnia-Herzegovina': 2, 'Cyprus': 6, 'Iceland': 1, 'Netherlands': 3, 'Slovakia?': 1, 'Algeria': 79, 'Angola': 13, 'Benin': 2, 'Botswana': 16, 'Burkina Faso': 6, 'Burundi': 2, 'Cameroon': 3, 'Central African Republic': 2, 'Congo (Brazzaville)': 3, 'Congo (Kinshasa)': 36, 'Côte D\\x92Ivoire': 8, 'Egypt': 74, 'Eritrea': 1, 'Ethiopia': 15, 'Gabon': 4, 'Ghana': 18, 'Guinea': 16, 'Iran': 18, 'Iraq': 4, 'Israel': 6, 'Jordan': 6, 'Kenya': 17, 'Lesotho': 1, 'Liberia': 8, 'Libya': 12, 'Madagascar': 26, 'Malawi': 6, 'Mali': 4, 'Mauritania': 7, 'Morocco': 49, 'Mozambique': 16, 'Namibia': 30, 'Niger': 3, 'Nigeria': 6, 'Oman': 2, 'Rwanda': 1, 'Saudi Arabia': 23, 'Senegal': 5, 'Sierra Leone': 17, 'Somalia': 4, 'South Africa': 271, 'Sudan': 6, 'Swaziland': 5, 'Syria': 1, 'Tanzania': 18, 'The Gambia': 1, 'Togo': 2, 'Tunisia': 34, 'Turkey': 21, 'Uganda': 7, 'Western Sahara': 1, 'Yemen': 1, 'Zambia': 31, 'Zimbabwe': 111}\n"
     ]
    }
   ],
   "source": [
    "def conteo_atributos(tabla, columna='counry'):\n",
    "    \"\"\" Conteo de los records en los atributos 'country' por default \"\"\"\n",
    "\n",
    "    dic_count = {}\n",
    "\n",
    "    col = tabla[columna]\n",
    "    \n",
    "    for iteracion in col:\n",
    "\n",
    "        if iteracion in dic_count.keys():\n",
    "            dic_count[iteracion] += 1\n",
    "\n",
    "        else:\n",
    "            dic_count[iteracion] = 1\n",
    "\n",
    "    return dic_count\n",
    "\n",
    "resultado1 = conteo_atributos(df,columna='country')\n",
    "\n",
    "print(resultado1)"
   ]
  },
  {
   "cell_type": "code",
   "execution_count": 28,
   "metadata": {},
   "outputs": [
    {
     "name": "stdout",
     "output_type": "stream",
     "text": [
      "{'Surficial': 413, 'Hydrothermal': 1164, 'Igneous': 535, 'Sedimentary': 810, 'Gemstone': 18, 'Unclassified': 91, 'Metamorphic': 137}\n"
     ]
    }
   ],
   "source": [
    "resultado2 = conteo_atributos(df,columna='dep_type')\n",
    "\n",
    "print(resultado2)"
   ]
  },
  {
   "cell_type": "markdown",
   "metadata": {},
   "source": [
    "El mismo problema pero utilizando `*args`."
   ]
  },
  {
   "cell_type": "code",
   "execution_count": 29,
   "metadata": {},
   "outputs": [],
   "source": [
    "def conteo_atributos(df,*args):\n",
    "    \"\"\" Conteo de los records en cualquiera de los atributos de un DataFrame \"\"\"\n",
    "    \n",
    "    dic_count = {}\n",
    "    \n",
    "    for col_name in args:\n",
    "    \n",
    "        col = df[col_name]\n",
    "    \n",
    "        for elemento in col:\n",
    "    \n",
    "            if elemento in dic_count.keys():\n",
    "                dic_count[elemento] += 1\n",
    "    \n",
    "            else:\n",
    "                dic_count[elemento] = 1\n",
    "\n",
    "    return dic_count"
   ]
  },
  {
   "cell_type": "code",
   "execution_count": 30,
   "metadata": {},
   "outputs": [
    {
     "name": "stdout",
     "output_type": "stream",
     "text": [
      "{'Afghanistan': 16, 'Australia': 57, 'Bangladesh': 1, 'Bhutan': 2, 'Burma': 7, 'Cambodia': 5, 'China': 156, 'Fiji': 2, 'India': 34, 'Indonesia': 10, 'Japan': 29, 'Korean Peninsula': 7, 'Laos': 7, 'Malaysia': 4, 'Mongolia': 51, 'Nepal': 1, 'New Caledonia': 4, 'New Zealand': 8, 'Pakistan': 17, 'Papua New Guinea': 5, 'Philippines': 19, 'Sri Lanka': 5, 'Thailand': 11, 'Vietnam': 9, 'United States': 382, 'Argentina': 36, 'Bolivia': 23, 'Brazil': 64, 'Canada': 122, 'Chile': 47, 'Colombia': 9, 'Costa Rica': 1, 'Cuba': 3, 'Dominican Republic': 2, 'Ecuador': 5, 'Guatemala': 2, 'Guyana': 3, 'Honduras': 1, 'Jamaica': 2, 'Mexico': 84, 'Panama': 2, 'Peru': 25, 'Puerto Rico': 1, 'Surinam': 3, 'Uruguay': 1, 'Venezuela': 3, 'Albania': 3, 'Armenia': 4, 'Austria': 10, 'Azerbaijan': 1, 'Belarus': 6, 'Belgium': 1, 'Bulgaria': 7, 'Czech Republic': 12, 'Finland': 22, 'France': 17, 'Georgia': 8, 'Germany': 24, 'Greece': 9, 'Hungary': 6, 'Ireland': 3, 'Italy': 15, 'Kalaallit Nunaat (Greenland)': 15, 'Kazakhstan': 140, 'Kyrgyzstan': 20, 'Luxenbourg': 1, 'Macedonia': 3, 'Norway': 9, 'Poland': 7, 'Portugal': 5, 'Romania': 6, 'Russia': 300, 'Serbia and Montenegro': 3, 'Slovakia': 10, 'Slovenia': 1, 'Spain': 24, 'Sweden': 13, 'Tajikistan': 14, 'Turkmenistan': 9, 'Ukraine': 28, 'United Kingdom': 14, 'Uzbekistan': 18, 'Bosnia-Herzegovina': 2, 'Cyprus': 6, 'Iceland': 1, 'Netherlands': 3, 'Slovakia?': 1, 'Algeria': 79, 'Angola': 13, 'Benin': 2, 'Botswana': 16, 'Burkina Faso': 6, 'Burundi': 2, 'Cameroon': 3, 'Central African Republic': 2, 'Congo (Brazzaville)': 3, 'Congo (Kinshasa)': 36, 'Côte D\\x92Ivoire': 8, 'Egypt': 74, 'Eritrea': 1, 'Ethiopia': 15, 'Gabon': 4, 'Ghana': 18, 'Guinea': 16, 'Iran': 18, 'Iraq': 4, 'Israel': 6, 'Jordan': 6, 'Kenya': 17, 'Lesotho': 1, 'Liberia': 8, 'Libya': 12, 'Madagascar': 26, 'Malawi': 6, 'Mali': 4, 'Mauritania': 7, 'Morocco': 49, 'Mozambique': 16, 'Namibia': 30, 'Niger': 3, 'Nigeria': 6, 'Oman': 2, 'Rwanda': 1, 'Saudi Arabia': 23, 'Senegal': 5, 'Sierra Leone': 17, 'Somalia': 4, 'South Africa': 271, 'Sudan': 6, 'Swaziland': 5, 'Syria': 1, 'Tanzania': 18, 'The Gambia': 1, 'Togo': 2, 'Tunisia': 34, 'Turkey': 21, 'Uganda': 7, 'Western Sahara': 1, 'Yemen': 1, 'Zambia': 31, 'Zimbabwe': 111}\n"
     ]
    }
   ],
   "source": [
    "result1 = conteo_atributos(df,'country')\n",
    "\n",
    "print(result1)"
   ]
  },
  {
   "cell_type": "code",
   "execution_count": 31,
   "metadata": {},
   "outputs": [
    {
     "name": "stdout",
     "output_type": "stream",
     "text": [
      "{'Surficial': 413, 'Hydrothermal': 1164, 'Igneous': 535, 'Sedimentary': 810, 'Gemstone': 18, 'Unclassified': 91, 'Metamorphic': 137, 'Aluminum': 73, 'Barite': 24, 'Beryllium-niobium,tin': 1, 'Chromium': 84, 'Copper': 235, 'Copper-molybdenum-gold': 6, 'Emerald': 2, 'Gold': 243, 'Iron': 208, 'Kunzite': 1, 'Lapis Lazuli': 1, 'Lithium-tantalum': 1, 'Magnesite-talc': 2, 'Phosphorous-rare earths': 2, 'Ruby': 1, 'Tourmaline': 1, 'Clay (bentonite)': 8, 'Clay (kaolin)': 4, 'Copper-gold': 8, 'Copper-molybdenum': 12, 'Copper-uranium,lead': 1, 'Copper-zinc-lead-silver': 2, 'Diamond': 52, 'Halite-gypsum': 1, 'Lead-zinc-silver': 4, 'Lithium': 8, 'Magnesite': 12, 'Nickel-copper': 4, 'Nickel-copper-cobalt': 14, 'Opal': 1, 'Phosphorous': 16, 'Silica sand': 3, 'Talc, asbestos': 5, 'Titanium-zirconium-REE': 24, 'Uranium-gold': 1, 'Zinc-copper-lead-sulfur': 1, 'Zinc-lead': 4, 'Zinc-lead-silver': 7, 'Graphite': 42, 'Gypsum': 26, 'Copper-silver-gold': 19, 'Jade': 3, 'Lead-zinc-nickel-cobalt': 1, 'Tin': 42, 'Corundum': 1, 'Sapphire': 3, 'Zircon': 1, 'Beryllium-tantalum': 1, 'Boron': 11, 'Boron-lithium-potassium': 1, 'coal, clay': 1, 'Copper-gold-silver': 3, 'Copper-lead-zinc': 2, 'Copper-lead-zinc-silver': 2, 'Copper-nickel': 1, 'Gold-antimony': 1, 'Gold-arsenic-mercury': 1, 'Gold-copper-lead': 2, 'Gold-mercury': 3, 'Gold-silver': 10, 'Gold-tungsten': 2, 'Gold-uranium': 1, 'Halite': 62, 'Iron-tantalum-vanadium': 1, 'Iron-tungsten': 1, 'Iron-zinc-cadmium': 1, 'Lead-zinc': 6, 'Lead-zinc-silver-strontium': 1, 'Lead-zinc-tin': 1, 'Molybdenum': 17, 'Perlite': 5, 'Potash': 17, 'Rare earth elements-iron': 1, 'Sillimanite': 1, 'Silver-gold-lead': 3, 'Titanium-vanadium-iron': 1, 'Tungsten': 49, 'wollastonite': 5, 'Zinc': 46, 'Zinc-copper': 1, 'Zinc-lead-copper': 3, 'Copper-gold-molybdenum': 3, 'Fluorite-phosphorus': 1, 'Lead': 61, 'Manganese': 46, 'Rare earth elements- tin': 1, 'Iron-copper': 1, 'Manganese-zinc-lead': 1, 'Mercury': 15, 'Silver-gold': 1, 'Silver-gold-copper': 1, 'Zinc-copper-lead-silver': 2, 'Zinc-copper-lead- silver': 1, 'Zinc-lead-copper-silver': 1, 'Iron-molybdenum': 1, 'Iron-strontium': 1, 'Pyrophyllite': 2, 'Uranium': 4, 'Gypsum-halite-potassium': 1, 'Fluorite': 9, 'fluorite': 2, 'Gold-silver-lead': 1, 'Niobium-zirconium': 1, 'Rare earth elements': 4, 'Silver': 14, 'Silver-antimony': 2, 'Tantalum': 5, 'Tungsten-molybdenum': 2, 'Vanadium': 5, 'Zeolite': 2, 'Zinc-lead-tin-silver': 1, 'Zirconium-tantalum-REE': 1, 'Iron-tantalum': 1, 'Barite-lead-zinc': 1, 'Chromium-platinum': 1, 'Halite-potassium': 6, 'Lead-zinc-barite': 1, 'Ruby-spinel-sapphire': 1, 'Copper-sulfur': 1, 'Gold-copper': 1, 'Gem': 6, 'Potassium-gypsum-halite': 1, 'beryllium': 1, 'copper': 22, 'copper, cobalt': 3, 'copper, gold': 7, 'copper, molybdenum, silver, gold': 14, 'copper, silver': 8, 'copper, silver, gold': 4, 'copper, silver, zinc, gold, lead': 1, 'gold': 21, 'gold, silver': 35, 'gold, silver, zinc, lead': 1, 'gold, silver, zinc, lead, copper': 1, 'halloysite (clay mineral with tube-like crystals)': 2, 'hectorite (lithium-rich clay mineral)': 2, 'iron': 33, 'lead, zinc': 2, 'lead, zinc, silver': 2, 'lead, zinc, silver, copper': 1, 'molybdenum': 10, 'molybdenum, copper': 3, 'silver, copper, gold, zinc, lead': 1, 'silver, copper, zinc': 1, 'silver, gold, copper': 1, 'silver, gold, lead, zinc, copper': 1, 'silver, gold, zinc, lead': 1, 'silver, gold, zinc, lead, copper': 1, 'silver, lead': 1, 'silver, lead, zinc': 6, 'silver, lead, zinc, copper': 1, 'silver, lead, zinc, gold, copper': 3, 'silver, zinc, gold, copper, lead': 1, 'talc': 4, 'zinc': 2, 'zinc, lead': 3, 'zinc, lead, silver': 2, 'zinc, silver, copper, lead': 1, 'copper, nickel, PGE': 3, 'lithium': 1, 'lithium mica': 1, 'mica,feldspathic sand': 1, 'nepheline syenite': 1, 'niobium': 1, 'niobium, rare earth elements, barium, fluorite, phosphorus, titanium': 1, 'niobium, rare earth elements, phosphorus, fluorine, strontium': 1, 'palladium, platinum': 2, 'phosphorus, niobium, vermiculite, rare earth elements, thorium, copper, barium': 1, 'rare earth elements, barium': 1, 'rare earth elements, fluorite': 1, 'rare earth elements, thorium': 1, 'titanium, magnetite': 1, 'vermiculite': 2, 'asbestos': 1, 'garnet': 4, 'olivine': 2, 'wollastonite, garnet': 1, \"attapulgite (palygorskite, fuller's earth)\": 1, 'barite': 8, 'diatomite': 6, 'phosphate rock': 40, 'sepiolite, bentonite, saponite, hectorite': 1, 'sodium-bentonite': 2, 'vanadium, phosphate rock': 1, 'zeolite': 6, 'kaolin': 5, 'kaolin, bauxite': 2, 'anhydrite': 1, 'boron': 5, 'bromine': 1, 'gypsum': 7, 'halite (salt)': 6, 'halite (salt), gypsum': 1, 'halite (salt), gypsum, magnesia, bromine': 1, 'halite (salt), gypsum, potash, bromine, iodine, magnesia': 1, 'halite (salt), potash': 3, 'iodine': 1, 'lithium, potash': 1, 'lithium, potash, sodium carbonate, boron': 1, 'magnesia': 1, 'potash': 16, 'potash, bromine, iodine, magnesia': 1, 'potash, bromine, lithium, magnesia': 1, 'potash, magnesia, lithium, sodium sulfate': 1, 'potash, sodium sulfate, sodium chloride': 1, 'sodium carbonate': 8, 'sodium sulfate, halite (salt), gypsum': 1, 'sulfur': 1, 'rare earth elements, gold, titanium': 1, 'titanium, zirconium, garnet, gold, rare earth elements': 1, 'titanium, zirconium, garnet, niobium, rare earth elements': 1, 'titanium, zirconium, rare earth elements': 12, 'feldspar, mica, kaolin. niobium, tantalum': 1, 'gold, copper': 1, 'perlite': 1, 'Copper, molybdenum': 23, 'Silver, lead': 7, 'Copper, gold': 29, 'Rhodochrosite': 1, 'Limestone': 26, 'Gold, silver': 9, 'Silver, gold': 9, 'Copper, lead': 1, 'Silver, tin': 2, 'Potash, halite': 10, 'Lithium, boron': 2, 'Tin, zinc': 3, 'Tin, tungsten': 4, 'Antimony, gold': 1, 'Silver, zinc': 1, 'Platinum': 10, 'Tin, silver': 1, 'Columbium, phosphate, titanium, rare earths': 1, 'Nickel, cobalt': 5, 'Lead, zinc': 2, 'Magnesite, talc': 2, 'Nepheline syenite': 2, 'Iron, copper, gold': 1, 'Phosphate, niobium': 1, 'Kaolinite': 4, 'Gem emerald': 5, 'Phosphate, calcium carbonate, niobium, titanium, zirconium': 1, 'Phosphate': 77, 'Gem amethyst': 2, 'Columbium, rare earths, beryllium': 1, 'Gem beryl': 1, 'Gem topaz': 1, 'Titanium, phosphate': 1, 'Talc, calcite': 1, 'Columbium, rare earths': 1, 'Gold, palladium': 1, 'Phosphate, niobium, titanium, rare earths, vermiculite': 1, 'Zinc, lead, silver, gold, copper': 2, 'Lithium, tantalum, rubidium': 1, 'Nickel, copper, platinum, palladium': 3, 'Zinc, lead, silver, copper': 2, 'Zinc, gold, lead, silver': 1, 'Copper, gold, molybdenum': 3, 'Gem jade': 1, 'Zinc, lead': 4, 'Silver, cobalt, nickel, copper': 1, 'Nickel, copper, platinum, palladium, cobalt': 7, 'Gem diamond': 3, 'Gold, silver, copper, zinc': 1, 'Zinc, lead, silver': 5, 'Silver, copper, gold, antimony': 1, 'Zinc, lead, gold, silver': 1, 'Zinc, copper, gold, silver': 1, 'Zinc, silver, copper, lead': 3, 'Copper, molybdenum, gold': 2, 'Gold, molybdenum, silver': 1, 'Gold, copper, silver, zinc, selenium, tellurium': 1, 'Asbestos': 35, 'Iron, titanium, vanadium': 2, 'Silver, lead, zinc': 4, 'Palladium, platinum, gold': 1, 'Titanium, iron': 1, 'Gold, silver, copper': 1, 'Tungsten, molybdenum': 1, 'Tungsten, copper': 1, 'Copper, zinc, silver': 1, 'Titanium, iron, zirconium, garnet': 1, 'niobium, tantalum': 1, 'Copper, gold, silver': 1, 'Mica, phlogopite': 1, 'Tantalum, lithium, cesium, rubidium': 1, 'Tantalum-niobium, rare earths, beryllium, zirconium': 1, 'Nickel, copper, cobalt': 1, 'Copper, cobalt, gold': 1, 'Iodine, sodium sulfate, nitrate': 1, 'Titanium': 21, 'Sulfur': 10, 'Gold, copper': 5, 'Lithium, potash': 1, 'Iodine, nitrate': 1, 'Nickel': 20, 'Platinum, gold': 1, 'Gold, platinum': 1, 'Diatomite': 7, 'Sodium carbonate': 1, 'Silver, gold, copper, lead': 1, 'Gold, silver, lead, zinc, copper': 1, 'Strontium': 12, 'Silver, zinc, lead, copper': 3, 'Zinc, lead, copper, silver, gold': 1, 'Lead, silver, zinc': 1, 'Gold, silver, zinc, lead': 1, 'Silver, gold, lead, zinc, copper': 1, 'Silver, lead, zinc, gold, copper': 6, 'Silver, gold, zinc, lead, copper': 1, 'Copper, cobalt, zinc': 1, 'Silver, copper, gold': 1, 'Silver, gold, lead, zinc': 1, 'Gold, zinc, lead, copper': 1, 'Wollastonite': 3, 'Magnesia, sodium sulfate': 1, 'Gold, silver, zinc': 1, 'Silver, gold, copper, lead, zinc': 1, 'Silver, lead, zinc, gold': 1, 'Silver, lead, zinc, copper': 1, 'Silver, zinc, copper, lead': 1, 'Copper, zinc': 3, 'Silver, zinc, lead': 2, 'Zinc, lead, silver, gold': 1, 'Silver, copper, zinc, lead': 1, 'Silver, lead, zinc, copper, gold': 1, 'Tin, copper': 1, 'Kaolin': 13, 'Antimony': 6, 'Rare': 9, 'Magnesium': 18, 'Fluorine': 8, 'Zirconium': 8, 'Niobium': 3, 'Phosphorus': 5, 'Arsenic': 1, 'Scandium': 1, 'Alunite': 1, 'Talc': 6, 'Sylvite': 4, 'Amber': 1, 'Feldspar': 7, 'Andalusite': 1, 'Barium': 4, 'Silica': 3, 'Bentonite': 4, 'Pumice': 3, 'Cryolite': 1, 'Vermiculite': 2, 'Muscovite': 1, 'Olivine': 2, 'Dolomite': 2, 'Sodium': 3, 'Sepiolite': 1, 'Bromine': 1, 'Clay': 5, 'Clay (Bentonite)': 3, 'Clay (Kaolin)': 6, 'Copper, Iron': 3, 'Copper, Lead': 2, 'Copper, Zinc': 2, 'Iron, Copper': 1, 'Iron, Lead': 1, 'Iron, Manganese': 4, 'Lead, Zinc': 21, 'Limestone (marble)': 4, 'Sodium sulfate': 7, 'Tungsten, Tin': 4, 'Zinc, Lead, Copper, Silver, Cobalt, Gold': 1, 'Vanadium, Lead': 1, 'Nickel, Cooper, PGE': 1, 'Nickel, Copper, Cobalt': 4, 'Nickel, Copper, PGE': 2, 'Soda ash, Halite': 1, 'Gold, Silver, Copper, Antimony': 1, 'Zinc, Silver': 1, 'Nickel, Copper, Cobalt, PGE': 1, 'REE': 4, 'Lead, Zinc, Copper, Vanadium': 1, 'Magnesium, Potash': 1, 'Columbium (Niobium)': 5, 'Columbium (Niobium), Phosphate': 1, 'Copper, Cobalt': 17, 'Copper, Cobalt, Gold, PGE, Vanadium': 1, 'Copper, Cobalt, Uranium': 1, 'Copper, Cobalt, Zinc': 1, 'Copper, Zinc, Lead, Silver': 1, 'Lithium, Columbium (Niobium), Tin': 1, 'Lithium, Tantalum, Tin': 1, 'Tin, Columbium (Niobium), Tantalum': 3, 'Tin, Gold, Tungsten, Columbium (Niobium), Tantalum': 1, 'Tin, Molybdenum, Columbium (Niobium)': 1, 'Tin, Tungsten, Columbium (Niobium), Tantalum, Lithium, Gold)': 1, 'Uranium, Nickel, Cobalt, Gold, PGE, Molybdenum': 1, 'Nickel, Cobalt': 1, 'Sulfur, Copper, Zinc': 5, 'Columbium (Niobium), Tantalum': 2, 'Copper, Zinc, Lead': 1, 'Gold, Copper': 8, 'Gold, Copper, Silver': 3, 'Gold, Silver': 10, 'Gold, Silver, Copper': 4, 'Limestone (dolomite)': 2, 'Manganese, Iron': 9, 'Nickel, Iron, Copper': 1, 'Phosphate, Fluorspar': 3, 'Soda ash': 6, 'Soda ash, Sodium sulfate': 1, 'Titanium, Iron, Zirconium': 1, 'Titanium, REE': 3, 'Titanium, Zirconium': 13, 'Zinc, Copper, Silver, Gold': 2, 'Bromine, Soda ash': 2, 'Copper, Lead, Zinc': 1, 'Gold, PGE, Silver, Chromium, Nickel, Iron,': 1, 'Nickel, Chromium': 3, 'Nickel, Copper': 2, 'Potash, Halite': 2, 'Tantalum, Columbium (Niobium)': 2, 'Columbium (Niobium), Phosphate, Zirconium, REE': 1, 'Aluminum, Iron, Titanium': 1, 'Diamond, Gold': 2, 'Copper, Molybdenum, Silver, Gold': 1, 'Iron, Phosphate': 2, 'Lead, Zinc, Copper, Silver, Barite': 1, 'Zinc, Lead': 4, 'Phosphate, Uranium': 4, 'Phosphate, Uranium, Fluorspar': 1, 'Potash, Soda ash, Magnesium, Bromine': 1, 'Potash, Magnesium, Halite, Bromine': 1, 'Chromium, Nickel': 1, 'Columbium (Niobium), REE,': 1, 'Fluorspar': 18, 'Fluorspar, Iron': 2, 'Gem (sapphire)': 1, 'Soda ash, Potash, Halite': 1, 'Gold, PGE': 12, 'Uranium, Iron': 1, 'Limestone (dolomite), Soda ash': 1, 'Nickel, Cobalt, Chromium, Titanium': 1, 'Titanium, REE, Zirconium': 1, 'Columbium (Niobium), Manganese': 1, 'Gem (ruby, sapphire)': 1, 'Limestone, Limestone (marble)': 1, 'REE, Strontium, Fluorspar, Barite': 1, 'REE, Tantalum, Phosphate': 1, 'Copper, Gold': 6, 'Cobalt': 1, 'Cobalt, Nickel': 1, 'Copper, Sulfur': 1, 'Fluorspar, Barite, Manganese': 1, 'Lead, Silver, Barite': 1, 'Lead, Silver, Copper': 1, 'Lead, Silver, Zinc': 1, 'Lead, Zinc, Copper, Silver': 3, 'Lead, Zinc, Silver': 4, 'Manganese, Barite': 1, 'Manganese, Lead': 1, 'Phosphate, Fluorspar, Uranium': 2, 'Silver, Copper, Zinc': 1, 'Vanadium, Lead, Zinc': 1, 'Copper, Silver': 5, 'Gem (beryl, aquamarine), Tantalum, Columbium (Niobium), Titanium': 1, 'Limestone (marble, dolomite)': 1, 'Lithium, Tantalum': 1, 'Tantalum, Gem (emerald)': 1, 'Titanium, Zirconium, REE': 3, 'Copper, Lead, Zinc, Silver': 1, 'Copper, Zinc, Sulfur, PGE, Gold': 1, 'Fluorspar, Phosphate, Barite': 1, 'Gem (tourmaline, garnet, aquamarine, topaz), Lithium, Tantalum': 1, 'Lithium, Columbium (Niobium), Tantalum': 1, 'Tin, Tungsten': 2, 'Vanadium, Zinc, Lead, Copper, Silver': 1, 'Zinc, Lead, Copper': 1, 'Zinc, Lead, Vanadium': 1, 'Uranium, Vanadium, Molybdenum': 1, 'Tin, Columbium (Niobium)': 1, 'Tin, Columbium (Niobium), Tungsten,Tantalum': 1, 'Columbium (Niobium), Tin, Tungsten': 1, 'Columbium (Niobium), Tantalum, REE': 1, 'Gold, Silver, Zinc, Copper': 2, 'Zinc, Copper': 2, 'Zinc, Copper, Gold': 1, 'Zinc, Copper, Gold, Silver': 1, 'Gold, Diamond, Iron': 1, 'Molybdenum, Copper, Lead, Zinc, Gold': 1, 'PGE': 19, 'Antimony, Gold': 1, 'Antimony, Gold, Silver': 1, 'Chromium, PGE': 1, 'Chromium, PGE, Iron, Silver': 7, 'Chromium, PGE, Nickel, Copper, Gold': 1, 'Chromium, PGE, Nickel, Gold': 1, 'Columbium (Niobium), Tantalum, Lithium': 1, 'Copper, Gold, Silver, Sulfur, PGE': 1, 'Copper, PGE': 1, 'Copper, PGE, Gold': 1, 'Copper, Zinc, Sulfur, Lead': 1, 'Fluorspar, Lead, Zinc': 1, 'Fluorspar, REE': 1, 'Gold, Antimony, PGE, Silver': 1, 'Gold, PGE,': 1, 'Gold, PGE, Silver': 32, 'Gold, Silver, PGE': 1, 'Gold, Silver, Uranium': 2, 'Gold, Sulfur': 3, 'Gold, Sulfur, PGE': 1, 'Gold, Sulfur, PGE, Silver': 2, 'Gold, Uranium': 3, 'Gold, Uranium, PGE, Silver': 10, 'Gold, Uranium, PGE, Silver, Sulfur': 2, 'Gold, Uranium, Silver': 1, 'Gold, Uranium, Silver, Sulfur': 1, 'Gold, Uranium, Silver, Sulfur, PGE': 1, 'Gold, Uranium, Sulfur, PGE': 1, 'Gold, Uranium, Sulfur, PGE, Silver': 1, 'Iron, Vanadium, Titanium': 1, 'Nickel, Chromium, Copper, PGE': 1, 'Nickel, Copper, Gold, Silver': 1, 'PGE,': 1, 'PGE, Gold, Nickel, Copper': 1, 'PGE, Chromium, Gold, Nickel': 1, 'PGE, Chromium, Nickel, Copper, Gold': 1, 'PGE, Copper': 3, 'PGE, Copper, Nickel': 2, 'PGE, Copper, Nickel, Gold': 2, 'PGE, Gold': 1, 'PGE, Gold, Copper, Nickel': 2, 'PGE, Nickel, Copper': 2, 'PGE, Nickel, Copper, Cobalt, Gold': 1, 'PGE, Nickel, Copper, Gold': 2, 'PGE, Nickel, Copper, Gold, Chromium, Molybdenum, Lead': 1, 'PGE, Vanadium': 1, 'Phosphate, Copper, Vermiculite, Iron, Uranium, Zirconium, Gold, Silver': 1, 'Phosphate, Iron, Vermiculite': 1, 'Phosphate, Vermiculite': 2, 'REE, Copper, Zirconium, Uranium': 1, 'Tin, Copper': 1, 'Tin, Iron, Copper, Lead': 1, 'Tin, Zinc, Tungsten, Copper': 1, 'Titanium, Zirconium, Iron': 2, 'Titanium, Zirconium, Iron, REE': 1, 'Titanium, Zirconium, REE, Iron': 1, 'Uranium, Gold': 1, 'Uranium, Gold, Silver': 1, 'Vanadium, Iron, Titanium': 1, 'Zinc, Lead, Copper, Silver, Gold': 1, 'Zinc, Lead, Silver': 2, 'Zirconium, Titanium': 1, 'Chromium, Asbestos, Magnesium': 2, 'Gold, Copper, Zinc, Lead, Silver': 1, 'Copper, Nickel': 1, 'Gem, Graphite': 1, 'Gold, Molybdenum': 1, 'Magnesium, Gem (peridot)': 1, 'Magnesium, Gem (ruby)': 1, 'REE, Phosphate, Zinc': 1, 'Titanium, Iron, Vanadium': 1, 'Phosphate, Iron': 2, 'Phosphate, Uranium, Aluminum, Iron': 1, 'Zinc, Copper, Silver': 1, 'Lithium, Tantalum, Columbium (Niobium)': 1, 'Phosphate, Columbium (Niobium), Iron, Zirconium, Limestone': 1, 'Phosphate, Copper, Barite, Strontium, Fluorspar': 1, 'Copper, Silver, Gold': 2, 'Gem (aquamarine, amethyst)': 1, 'Gem (emerald)': 1, 'Lead, Zinc, Vanadium, Silver': 1, 'Sulfur, Copper': 1, 'Chromium, Nickel, PGE, Gold': 1, 'Gold, Antimony': 1, 'Gold, Iron': 1, 'Gold, Tungsten': 2, 'Gold, Tungsten, Copper': 1, 'Lithium, REE, Tantalum, Clay (Kaolin), Tin': 1, 'Mercury, Arsenic': 1, 'Nickel, Cobalt, Copper': 1, 'Tin, Tantalum, Tungsten, Columbium(Niobium)': 1, 'Zinc, Copper, Lead, Silver, Gold': 1}\n"
     ]
    }
   ],
   "source": [
    "result2 = conteo_atributos(df,'dep_type','commodity')\n",
    "print(result2)"
   ]
  },
  {
   "cell_type": "markdown",
   "metadata": {},
   "source": [
    "### _**Funciones lambda**_\n",
    "\n",
    "En muchas ocasiones el mantenimiento a muchas líneas de código puede ser muy tedioso. Ahorrarnos tiempo siempre es de gran ayuda y esto lo podemos hacer con las llamadas funciones _lambda_. Estas funciones tienen la tarea de ahorrarnos el trabajo de definir, recibir argumentos y ejecutar parámetros. Además de anonimizar un poco el código. Por ejemplo:\n",
    "\n",
    "_–La función que concatenaba una elemento y `Cl` tenía el siguiente código:–_\n",
    "\n",
    "```python\n",
    "def cloruros(elemento):\n",
    "    \n",
    "    \"\"\" Concatenamos un elemento con Cl \"\"\"\n",
    "    \n",
    "    concat=elemento+'Cl'\n",
    "    \n",
    "    return concat\n",
    "\n",
    "funcion = cloruros('Na')\n",
    "\n",
    "print(funcion)\n",
    "```\n",
    "\n",
    "El código tiene muchas líneas siendo que es una tarea muy pequeña. Pero en este caso podemos redefinir nuestra función creando una nueva, utilizando una función _lambda_ para ahorrarnos a todas ellas. \n",
    "\n",
    "Una función _lambda_ tiene la siguiente sintaxis:\n",
    "\n",
    "`resultado = (lambda argumento, argumento : tarea)`\n",
    "\n",
    "Para el siguiente ejercico basta con solo agregar un argumento a `lambda`."
   ]
  },
  {
   "cell_type": "code",
   "execution_count": 32,
   "metadata": {},
   "outputs": [
    {
     "name": "stdout",
     "output_type": "stream",
     "text": [
      "NaCl\n"
     ]
    }
   ],
   "source": [
    "funcion=(lambda elemento: elemento + 'Cl')\n",
    "\n",
    "sustancia = funcion('Na')\n",
    "\n",
    "print(sustancia)"
   ]
  },
  {
   "cell_type": "markdown",
   "metadata": {},
   "source": [
    "Vemos que en esta nueva versión de la función `cloruros` todo el procesamiento no está almacenado en el _\"entorno\"_, lo cual es muy útil cuando queremos utilizar funciones `lambda` en cuerpos de código más grandes o complejos.\n",
    "\n",
    "#### **Función map**\n",
    "\n",
    "Veamos cómo podemos aplicar una función `lambda` en taréas más complejas como la iteración de elementos en una lista. Esto, en una función `def`, requeriría de la definción de varios parámetros (los elementos de la lista por ejemlo), pero podemos hacer uso de la función `map()` que nos ayuda a procesar nuestros objetos a travéz de de la función `lambda`. \n",
    "\n",
    "_–Necesitamos concatenar con `Cl` a todos los elementos de una lista:–_"
   ]
  },
  {
   "cell_type": "code",
   "execution_count": 33,
   "metadata": {},
   "outputs": [
    {
     "name": "stdout",
     "output_type": "stream",
     "text": [
      "['AgCl', 'NaCl', 'HgCl', 'ZnCl']\n"
     ]
    }
   ],
   "source": [
    "lista = [\"Ag\", \"Na\", \"Hg\", \"Zn\"]\n",
    "sustancias = map(lambda item: item+'Cl',lista)\n",
    "lista_sustancias=list(sustancias)\n",
    "print(lista_sustancias)"
   ]
  },
  {
   "cell_type": "markdown",
   "metadata": {},
   "source": [
    "El objeto `map() = (sustancias)` no puede ser impreso tal cual. `sustancias` necesita ser convertida en un objeto lista (`list`) el cual contendrá a los objetos procesados.\n",
    "\n",
    "#### **Función filter**\n",
    "\n",
    "La función `filter()` nos ayuda a filtrar objetos, en una lista, que no satisfagan con un criterio. \n",
    "\n",
    "_–El objetivo de este nuevo ejercicio es seleccionar elemntos, de una lista que no cumplan un determinado criterio:–_"
   ]
  },
  {
   "cell_type": "code",
   "execution_count": 34,
   "metadata": {},
   "outputs": [
    {
     "name": "stdout",
     "output_type": "stream",
     "text": [
      "['Olivino', 'Pirrotina', 'Calaverita', 'Plagioclasa', 'Anortita', 'Titanita', 'Rutilo']\n"
     ]
    }
   ],
   "source": [
    "minerales = ['Oro', 'Plata', 'Olivino', 'Pirrotina', 'Calaverita', 'Plagioclasa', 'Anortita', 'Titanita', 'Rutilo']\n",
    "\n",
    "solo_minerales=filter(lambda elemento: len(elemento) > 5, minerales)\n",
    "resultado=list(solo_minerales)\n",
    "print(resultado)"
   ]
  },
  {
   "cell_type": "markdown",
   "metadata": {},
   "source": [
    "#### **Función reduce**\n",
    "\n",
    "`reduce()` nos ayuda a iterar, en una determinada lista, una  operación al igual que con `map()` y `filter()`, solo que a diferencia de estas dos `reduce()` nos devuelve un solo valor. Para hace ruso de `reduce()` es necesario llamarla de la biblioteca `functools`. Veamos el siguiente ejemplo:\n",
    "\n",
    "_–La función `trabalenguas()` recibía uno, o varios argumentos, y nos devolvía un solo resultado (la concatencación de de todas las palabras). En la nueva versión de la función `trabalenguas()` pasarémos las mísmas palabras (strings) para que realice el mísmo procedimiento.–_\n",
    "\n",
    "```python\n",
    "def trabalenguas(*args):\n",
    "    \"\"\"Concatenate strings in *args together.\"\"\"\n",
    "\n",
    "    union=''\n",
    "\n",
    "    for palabra in args:\n",
    "        union += palabra\n",
    "\n",
    "    return union\n",
    "\n",
    "una_palabra = trabalenguas('super')\n",
    "\n",
    "muchas_palabras_unidas = trabalenguas(\"super\", \"cali\", \"fragilistico\", \"espia\", \"lidoso\")\n",
    "```"
   ]
  },
  {
   "cell_type": "code",
   "execution_count": 35,
   "metadata": {},
   "outputs": [
    {
     "name": "stdout",
     "output_type": "stream",
     "text": [
      "supercalifragilisticoespialidoso\n"
     ]
    }
   ],
   "source": [
    "from functools import reduce\n",
    "\n",
    "palabras=[\"super\", \"cali\", \"fragilistico\", \"espia\", \"lidoso\"]\n",
    "\n",
    "trabalenguas=reduce(lambda palabra1, palabra2: palabra1 + palabra2, palabras)\n",
    "\n",
    "print(trabalenguas)"
   ]
  },
  {
   "cell_type": "markdown",
   "metadata": {},
   "source": [
    "#### **Ejercicio**\n",
    "\n",
    "Ahora que ya conocemos la funcionalidad que tienen funciones como `lambda`, `map()`, `filter()` y `reduce()` pongamos en práctica un poco estos nuevos conceptos.\n",
    "\n",
    "_–Necesitamos construir una fución que nos devuelva todos los valores donde el atributo `commodity` haga coincidir con `Phosphorous` o relacionado a el.–_\n",
    "\n",
    "En esta ocación utilizremos `filter()` como nuestro medio para encontrar esta cadena. Buscarémos que nuestra nueva función trate de reconocer las 2 priemras lestras (`Ph`) de la palabra `Phosphorous`."
   ]
  },
  {
   "cell_type": "code",
   "execution_count": 36,
   "metadata": {},
   "outputs": [
    {
     "name": "stdout",
     "output_type": "stream",
     "text": [
      "['Phosphorous-rare earths', 'Phosphorous', 'Phosphorous', 'Phosphorous', 'Phosphorous-rare earths', 'Phosphorous', 'Phosphorous', 'Phosphorous', 'Phosphorous', 'Phosphorous', 'Phosphorous', 'Phosphorous', 'Phosphorous', 'Phosphorous', 'Phosphorous', 'Phosphorous', 'Phosphorous', 'Phosphorous', 'Phosphate, niobium', 'Phosphate, calcium carbonate, niobium, titanium, zirconium', 'Phosphate', 'Phosphate', 'Phosphate', 'Phosphate, niobium, titanium, rare earths, vermiculite', 'Phosphate', 'Phosphate', 'Phosphate', 'Phosphorus', 'Phosphorus', 'Phosphorus', 'Phosphorus', 'Phosphate', 'Phosphate', 'Phosphate', 'Phosphate', 'Phosphate', 'Phosphate', 'Phosphate', 'Phosphate', 'Phosphate', 'Phosphate', 'Phosphate', 'Phosphate', 'Phosphate', 'Phosphate', 'Phosphate', 'Phosphate', 'Phosphate', 'Phosphate', 'Phosphorus', 'Phosphate', 'Phosphate', 'Phosphate', 'Phosphate', 'Phosphate', 'Phosphate', 'Phosphate', 'Phosphate', 'Phosphate', 'Phosphate', 'Phosphate', 'Phosphate', 'Phosphate', 'Phosphate', 'Phosphate', 'Phosphate', 'Phosphate, Fluorspar', 'Phosphate', 'Phosphate', 'Phosphate', 'Phosphate, Uranium', 'Phosphate, Uranium', 'Phosphate, Uranium', 'Phosphate, Uranium, Fluorspar', 'Phosphate', 'Phosphate', 'Phosphate, Uranium', 'Phosphate', 'Phosphate', 'Phosphate', 'Phosphate', 'Phosphate', 'Phosphate, Fluorspar, Uranium', 'Phosphate, Fluorspar, Uranium', 'Phosphate', 'Phosphate', 'Phosphate', 'Phosphate', 'Phosphate', 'Phosphate', 'Phosphate', 'Phosphate', 'Phosphate', 'Phosphate', 'Phosphate', 'Phosphate', 'Phosphate', 'Phosphate', 'Phosphate, Copper, Vermiculite, Iron, Uranium, Zirconium, Gold, Silver', 'Phosphate, Iron, Vermiculite', 'Phosphate, Vermiculite', 'Phosphate', 'Phosphate', 'Phosphate', 'Phosphate', 'Phosphate', 'Phosphate', 'Phosphate', 'Phosphate', 'Phosphate', 'Phosphate', 'Phosphate', 'Phosphate', 'Phosphate, Fluorspar', 'Phosphate, Fluorspar', 'Phosphate, Iron', 'Phosphate, Uranium, Aluminum, Iron', 'Phosphate, Columbium (Niobium), Iron, Zirconium, Limestone', 'Phosphate, Copper, Barite, Strontium, Fluorspar', 'Phosphate', 'Phosphate, Iron', 'Phosphate, Vermiculite']\n"
     ]
    }
   ],
   "source": [
    "citas=filter(lambda x: x[0:2]=='Ph', df['commodity'])\n",
    "listas_citas=list(citas)\n",
    "\n",
    "print(listas_citas)"
   ]
  },
  {
   "cell_type": "markdown",
   "metadata": {},
   "source": [
    "Como podemos ver `lambda` tiene la tarea de entrar a cada registro del atributo `commodity` y `filter()` hacer que coincida con `Ph`.\n",
    "\n",
    "_–Ahora construyamos una función que contabilice el número de veces que cada uno de los registros, de un atributo, en un DataFrame, se repita. Y que en caso de no existir dicho atributo el mensaje sea el siguiente `no se encotró el atributo (nombre del atributo)`.–_\n",
    "\n",
    "Con `try()` y `except()` podemos condicionar a nuestra función a que; cada vez que no encuentre el nombre de nuestro atributo nos arroje dicho mensaje. Para ello utilizaremos parte del código de la función `conteo_atributos`."
   ]
  },
  {
   "cell_type": "code",
   "execution_count": 37,
   "metadata": {},
   "outputs": [
    {
     "name": "stdout",
     "output_type": "stream",
     "text": [
      "{'Surficial': 413, 'Hydrothermal': 1164, 'Igneous': 535, 'Sedimentary': 810, 'Gemstone': 18, 'Unclassified': 91, 'Metamorphic': 137}\n"
     ]
    }
   ],
   "source": [
    "def conteo_atributos(tabla, columna='counry'):\n",
    "    \"\"\" Conteo de los records en los atributos 'country' por default \"\"\"\n",
    "\n",
    "    dic_count = {}\n",
    "    \n",
    "    try:\n",
    "        \n",
    "        col = tabla[columna]\n",
    "        \n",
    "        for iteracion in col:\n",
    "            \n",
    "            if iteracion in dic_count.keys():\n",
    "                \n",
    "                dic_count[iteracion] += 1\n",
    "                \n",
    "            else:\n",
    "                \n",
    "                dic_count[iteracion] = 1\n",
    "    \n",
    "        return dic_count\n",
    "                \n",
    "    except:\n",
    "        \n",
    "        print('no se encotró el atributo '+'\"'+columna+'\"'+' en el DataFrame.')\n",
    "        \n",
    "resultado1 = conteo_atributos(df,columna='dep_type')\n",
    "\n",
    "print(resultado1)"
   ]
  },
  {
   "cell_type": "markdown",
   "metadata": {},
   "source": [
    "Como podemos observar el atributo `dep_type` si existe en nuestro _DataFrame_. _–¿Qué pasaría si le pasamos el nombre del atrbuto `tipo` a nuestra fucnión?. Veamos...–_"
   ]
  },
  {
   "cell_type": "code",
   "execution_count": 38,
   "metadata": {},
   "outputs": [
    {
     "name": "stdout",
     "output_type": "stream",
     "text": [
      "no se encotró el atributo \"tipo\" en el DataFrame.\n"
     ]
    }
   ],
   "source": [
    "resultado1 = conteo_atributos(df,columna='tipo')"
   ]
  },
  {
   "cell_type": "code",
   "execution_count": 39,
   "metadata": {},
   "outputs": [
    {
     "name": "stdout",
     "output_type": "stream",
     "text": [
      "CPython 3.7.6\n",
      "IPython 7.12.0\n",
      "\n",
      "pandas 1.0.1\n",
      "watermark 2.0.2\n",
      "\n",
      "compiler   : GCC 7.3.0\n",
      "system     : Linux\n",
      "release    : 4.15.0-96-generic\n",
      "machine    : x86_64\n",
      "processor  : x86_64\n",
      "CPU cores  : 4\n",
      "interpreter: 64bit\n",
      " \n",
      "last updated: Fri Apr 10 2020 16:02:28 CDT\n"
     ]
    }
   ],
   "source": [
    "%load_ext watermark\n",
    "\n",
    "%watermark -v -m -p pandas,watermark\n",
    "\n",
    "print(\" \")\n",
    "%watermark -u -n -t -z"
   ]
  }
 ],
 "metadata": {
  "kernelspec": {
   "display_name": "Python 3",
   "language": "python",
   "name": "python3"
  },
  "language_info": {
   "codemirror_mode": {
    "name": "ipython",
    "version": 3
   },
   "file_extension": ".py",
   "mimetype": "text/x-python",
   "name": "python",
   "nbconvert_exporter": "python",
   "pygments_lexer": "ipython3",
   "version": "3.7.3"
  }
 },
 "nbformat": 4,
 "nbformat_minor": 4
}
